{
 "cells": [
  {
   "cell_type": "code",
   "execution_count": 1,
   "metadata": {},
   "outputs": [],
   "source": [
    "#Plotting flower species\n",
    "\n",
    "#Importing libraries\n",
    "from bokeh.plotting import figure\n",
    "from bokeh.io import output_file, show\n",
    "from bokeh.sampledata.iris import flowers\n",
    "from bokeh.models import Range1d, PanTool, ResetTool, HoverTool, ColumnDataSource, LabelSet"
   ]
  },
  {
   "cell_type": "code",
   "execution_count": 2,
   "metadata": {
    "scrolled": true
   },
   "outputs": [],
   "source": [
    "colormap={'setosa':'red','versicolor':'green','virginica':'blue'}\n",
    "flowers['color'] = [colormap[x] for x in flowers['species']]\n",
    "flowers['size'] = flowers['sepal_width'] * 4\n",
    "\n",
    "setosa = ColumnDataSource(flowers[flowers[\"species\"]==\"setosa\"])\n",
    "versicolor = ColumnDataSource(flowers[flowers[\"species\"]==\"versicolor\"])\n",
    "virginica = ColumnDataSource(flowers[flowers[\"species\"]==\"virginica\"])"
   ]
  },
  {
   "cell_type": "code",
   "execution_count": 3,
   "metadata": {
    "collapsed": true
   },
   "outputs": [
    {
     "data": {
      "text/plain": [
       "{'index': array([ 0,  1,  2,  3,  4,  5,  6,  7,  8,  9, 10, 11, 12, 13, 14, 15, 16,\n",
       "        17, 18, 19, 20, 21, 22, 23, 24, 25, 26, 27, 28, 29, 30, 31, 32, 33,\n",
       "        34, 35, 36, 37, 38, 39, 40, 41, 42, 43, 44, 45, 46, 47, 48, 49],\n",
       "       dtype=int64),\n",
       " 'sepal_length': array([5.1, 4.9, 4.7, 4.6, 5. , 5.4, 4.6, 5. , 4.4, 4.9, 5.4, 4.8, 4.8,\n",
       "        4.3, 5.8, 5.7, 5.4, 5.1, 5.7, 5.1, 5.4, 5.1, 4.6, 5.1, 4.8, 5. ,\n",
       "        5. , 5.2, 5.2, 4.7, 4.8, 5.4, 5.2, 5.5, 4.9, 5. , 5.5, 4.9, 4.4,\n",
       "        5.1, 5. , 4.5, 4.4, 5. , 5.1, 4.8, 5.1, 4.6, 5.3, 5. ]),\n",
       " 'sepal_width': array([3.5, 3. , 3.2, 3.1, 3.6, 3.9, 3.4, 3.4, 2.9, 3.1, 3.7, 3.4, 3. ,\n",
       "        3. , 4. , 4.4, 3.9, 3.5, 3.8, 3.8, 3.4, 3.7, 3.6, 3.3, 3.4, 3. ,\n",
       "        3.4, 3.5, 3.4, 3.2, 3.1, 3.4, 4.1, 4.2, 3.1, 3.2, 3.5, 3.6, 3. ,\n",
       "        3.4, 3.5, 2.3, 3.2, 3.5, 3.8, 3. , 3.8, 3.2, 3.7, 3.3]),\n",
       " 'petal_length': array([1.4, 1.4, 1.3, 1.5, 1.4, 1.7, 1.4, 1.5, 1.4, 1.5, 1.5, 1.6, 1.4,\n",
       "        1.1, 1.2, 1.5, 1.3, 1.4, 1.7, 1.5, 1.7, 1.5, 1. , 1.7, 1.9, 1.6,\n",
       "        1.6, 1.5, 1.4, 1.6, 1.6, 1.5, 1.5, 1.4, 1.5, 1.2, 1.3, 1.4, 1.3,\n",
       "        1.5, 1.3, 1.3, 1.3, 1.6, 1.9, 1.4, 1.6, 1.4, 1.5, 1.4]),\n",
       " 'petal_width': array([0.2, 0.2, 0.2, 0.2, 0.2, 0.4, 0.3, 0.2, 0.2, 0.1, 0.2, 0.2, 0.1,\n",
       "        0.1, 0.2, 0.4, 0.4, 0.3, 0.3, 0.3, 0.2, 0.4, 0.2, 0.5, 0.2, 0.2,\n",
       "        0.4, 0.2, 0.2, 0.2, 0.2, 0.4, 0.1, 0.2, 0.2, 0.2, 0.2, 0.1, 0.2,\n",
       "        0.2, 0.3, 0.3, 0.2, 0.6, 0.4, 0.3, 0.2, 0.2, 0.2, 0.2]),\n",
       " 'species': array(['setosa', 'setosa', 'setosa', 'setosa', 'setosa', 'setosa',\n",
       "        'setosa', 'setosa', 'setosa', 'setosa', 'setosa', 'setosa',\n",
       "        'setosa', 'setosa', 'setosa', 'setosa', 'setosa', 'setosa',\n",
       "        'setosa', 'setosa', 'setosa', 'setosa', 'setosa', 'setosa',\n",
       "        'setosa', 'setosa', 'setosa', 'setosa', 'setosa', 'setosa',\n",
       "        'setosa', 'setosa', 'setosa', 'setosa', 'setosa', 'setosa',\n",
       "        'setosa', 'setosa', 'setosa', 'setosa', 'setosa', 'setosa',\n",
       "        'setosa', 'setosa', 'setosa', 'setosa', 'setosa', 'setosa',\n",
       "        'setosa', 'setosa'], dtype=object),\n",
       " 'color': array(['red', 'red', 'red', 'red', 'red', 'red', 'red', 'red', 'red',\n",
       "        'red', 'red', 'red', 'red', 'red', 'red', 'red', 'red', 'red',\n",
       "        'red', 'red', 'red', 'red', 'red', 'red', 'red', 'red', 'red',\n",
       "        'red', 'red', 'red', 'red', 'red', 'red', 'red', 'red', 'red',\n",
       "        'red', 'red', 'red', 'red', 'red', 'red', 'red', 'red', 'red',\n",
       "        'red', 'red', 'red', 'red', 'red'], dtype=object),\n",
       " 'size': array([14. , 12. , 12.8, 12.4, 14.4, 15.6, 13.6, 13.6, 11.6, 12.4, 14.8,\n",
       "        13.6, 12. , 12. , 16. , 17.6, 15.6, 14. , 15.2, 15.2, 13.6, 14.8,\n",
       "        14.4, 13.2, 13.6, 12. , 13.6, 14. , 13.6, 12.8, 12.4, 13.6, 16.4,\n",
       "        16.8, 12.4, 12.8, 14. , 14.4, 12. , 13.6, 14. ,  9.2, 12.8, 14. ,\n",
       "        15.2, 12. , 15.2, 12.8, 14.8, 13.2])}"
      ]
     },
     "execution_count": 3,
     "metadata": {},
     "output_type": "execute_result"
    }
   ],
   "source": [
    "setosa.data"
   ]
  },
  {
   "cell_type": "code",
   "execution_count": 4,
   "metadata": {},
   "outputs": [
    {
     "data": {
      "text/plain": [
       "array([0.2, 0.2, 0.2, 0.2, 0.2, 0.4, 0.3, 0.2, 0.2, 0.1, 0.2, 0.2, 0.1,\n",
       "       0.1, 0.2, 0.4, 0.4, 0.3, 0.3, 0.3, 0.2, 0.4, 0.2, 0.5, 0.2, 0.2,\n",
       "       0.4, 0.2, 0.2, 0.2, 0.2, 0.4, 0.1, 0.2, 0.2, 0.2, 0.2, 0.1, 0.2,\n",
       "       0.2, 0.3, 0.3, 0.2, 0.6, 0.4, 0.3, 0.2, 0.2, 0.2, 0.2])"
      ]
     },
     "execution_count": 4,
     "metadata": {},
     "output_type": "execute_result"
    }
   ],
   "source": [
    "setosa.data[\"petal_width\"]"
   ]
  },
  {
   "cell_type": "code",
   "execution_count": 5,
   "metadata": {},
   "outputs": [
    {
     "data": {
      "text/plain": [
       "bokeh.core.property.wrappers.PropertyValueColumnData"
      ]
     },
     "execution_count": 5,
     "metadata": {},
     "output_type": "execute_result"
    }
   ],
   "source": [
    "type(setosa.data)"
   ]
  },
  {
   "cell_type": "code",
   "execution_count": 6,
   "metadata": {},
   "outputs": [
    {
     "data": {
      "text/plain": [
       "numpy.ndarray"
      ]
     },
     "execution_count": 6,
     "metadata": {},
     "output_type": "execute_result"
    }
   ],
   "source": [
    "type(setosa.data[\"petal_width\"])"
   ]
  },
  {
   "cell_type": "code",
   "execution_count": 7,
   "metadata": {
    "scrolled": true
   },
   "outputs": [
    {
     "data": {
      "text/plain": [
       "{'x': [1, 2, 3, 4], 'y': [5, 6, 7, 8]}"
      ]
     },
     "execution_count": 7,
     "metadata": {},
     "output_type": "execute_result"
    }
   ],
   "source": [
    "cds = ColumnDataSource(dict(x=[1,2,3,4], y=[5,6,7,8]))\n",
    "cds.data"
   ]
  },
  {
   "cell_type": "code",
   "execution_count": 8,
   "metadata": {},
   "outputs": [
    {
     "data": {
      "text/plain": [
       "{'x': [1, 2, 3, 4], 'y': [5, 6, 7, 8], 'z': [10, 11, 12, 13]}"
      ]
     },
     "execution_count": 8,
     "metadata": {},
     "output_type": "execute_result"
    }
   ],
   "source": [
    "cds.add(data=[10,11,12,13], name=\"z\")\n",
    "cds.data"
   ]
  },
  {
   "cell_type": "markdown",
   "metadata": {},
   "source": [
    "# ColumnDataSource"
   ]
  },
  {
   "cell_type": "markdown",
   "metadata": {},
   "source": [
    "### ColumnDataSource is a bokeh object that is used to store data"
   ]
  },
  {
   "cell_type": "code",
   "execution_count": 9,
   "metadata": {},
   "outputs": [],
   "source": [
    "#Importing libraries\n",
    "from bokeh.plotting import figure\n",
    "from bokeh.io import output_file, show\n",
    "from bokeh.sampledata.iris import flowers\n",
    "from bokeh.models import Range1d, PanTool, ResetTool, HoverTool, ColumnDataSource, LabelSet\n",
    "\n",
    "colormap={'setosa':'red','versicolor':'green','virginica':'blue'}\n",
    "flowers['color'] = [colormap[x] for x in flowers['species']]\n",
    "flowers['size'] = flowers['sepal_width'] * 4\n",
    "\n",
    "\n",
    "# setosa = flowers[flowers[\"species\"]==\"setosa\"]\n",
    "# versicolor = flowers[flowers[\"species\"]==\"versicolor\"]\n",
    "# virginica = flowers[flowers[\"species\"]==\"virginica\"]\n",
    "\n",
    "setosa = ColumnDataSource(flowers[flowers[\"species\"]==\"setosa\"])\n",
    "versicolor = ColumnDataSource(flowers[flowers[\"species\"]==\"versicolor\"])\n",
    "virginica = ColumnDataSource(flowers[flowers[\"species\"]==\"virginica\"])\n",
    "\n",
    "#Define the output file path\n",
    "output_file(\"iris.html\")\n",
    "\n",
    "#Create the figure object\n",
    "f = figure()\n",
    "\n",
    "# #Style the tools\n",
    "f.tools = [PanTool(),ResetTool()]\n",
    "# f.add_tools(HoverTool())\n",
    "hover = HoverTool(tooltips=[(\"Species\",\"@species\"), (\"Sepal Width\",\"@sepal_width\")])\n",
    "f.add_tools(hover)\n",
    "f.toolbar_location = 'above'\n",
    "f.toolbar.logo = None\n",
    "\n",
    "#adding glyphs\n",
    "f.circle(x=\"petal_length\", y=\"petal_width\", size='size', fill_alpha=0.2, \n",
    "color=\"color\", line_dash=[5,3], legend='Setosa', source=setosa)\n",
    "\n",
    "f.circle(x=\"petal_length\", y=\"petal_width\", size='size', fill_alpha=0.2, \n",
    "color=\"color\", line_dash=[5,3], legend='Versicolor', source=versicolor)\n",
    "\n",
    "f.circle(x=\"petal_length\", y=\"petal_width\", size='size', fill_alpha=0.2,\n",
    "color=\"color\", line_dash=[5,3], legend='Virginica', source=virginica)\n",
    "\n",
    "#Save and show the figure\n",
    "show(f)"
   ]
  },
  {
   "cell_type": "code",
   "execution_count": null,
   "metadata": {},
   "outputs": [],
   "source": [
    "type(flowers)"
   ]
  },
  {
   "cell_type": "markdown",
   "metadata": {},
   "source": [
    "# Plotting periodic table elements "
   ]
  },
  {
   "cell_type": "code",
   "execution_count": 10,
   "metadata": {},
   "outputs": [],
   "source": [
    "#Importing libraries\n",
    "from bokeh.plotting import figure\n",
    "from bokeh.io import output_file, show\n",
    "from bokeh.sampledata.periodic_table import elements\n",
    "from bokeh.models import Range1d, PanTool, ResetTool, HoverTool, ColumnDataSource, LabelSet\n",
    "import pandas\n",
    "\n",
    "#Remove rows with NaN values and then map standard states to colors\n",
    "elements.dropna(inplace=True) #if inplace is not set to True the changes are not written to the dataframe\n",
    "colormap = {'gas':'yellow', 'liquid':'orange', 'solid':'red'}\n",
    "elements['color'] = [colormap[x] for x in elements['standard state']]\n",
    "elements['size'] = elements[\"van der Waals radius\"] / 10\n",
    "\n",
    "#Create three ColumnDataSources for elements of unique standard states\n",
    "gas = ColumnDataSource(elements[elements['standard state']=='gas'])\n",
    "liquid = ColumnDataSource(elements[elements['standard state']=='liquid'])\n",
    "solid = ColumnDataSource(elements[elements['standard state']=='solid'])\n",
    "\n",
    "#Define the output file path\n",
    "output_file(\"elements.html\")\n",
    "\n",
    "#Create the figure object\n",
    "f = figure()\n",
    "\n",
    "#adding glyphs\n",
    "f.circle(x=\"atomic radius\", y=\"boiling point\", size='size', fill_alpha=0.2, color=\"color\",\n",
    "         legend='Gas',source=gas)\n",
    "\n",
    "f.circle(x=\"atomic radius\", y=\"boiling point\", size='size', fill_alpha=0.2, color=\"color\",\n",
    "         legend='Liquid', source=liquid)\n",
    "\n",
    "f.circle(x=\"atomic radius\", y=\"boiling point\", size='size', fill_alpha=0.2, color=\"color\",\n",
    "         legend='Solid', source=solid)\n",
    "\n",
    "f.xaxis.axis_label=\"Atomic radius\"\n",
    "f.yaxis.axis_label=\"Boiling point\"\n",
    "\n",
    "#Save and show the figure\n",
    "show(f)"
   ]
  },
  {
   "cell_type": "markdown",
   "metadata": {},
   "source": [
    "# Popup-window-with-HTML"
   ]
  },
  {
   "cell_type": "code",
   "execution_count": 11,
   "metadata": {},
   "outputs": [],
   "source": [
    "#Plotting flower species\n",
    "\n",
    "#Importing libraries\n",
    "from bokeh.plotting import figure\n",
    "from bokeh.io import output_file, show\n",
    "from bokeh.sampledata.iris import flowers\n",
    "from bokeh.models import Range1d, PanTool, ResetTool, HoverTool, ColumnDataSource, LabelSet\n",
    "\n",
    "colormap={'setosa':'red', 'versicolor':'green', 'virginica':'blue'}\n",
    "flowers['color'] = [colormap[x] for x in flowers['species']]\n",
    "flowers['size'] = flowers['sepal_width'] * 4\n",
    "\n",
    "urlmap = {'setosa':'https://upload.wikimedia.org/wikipedia/commons/thumb/5/56/Kosaciec_szczecinkowaty_Iris_setosa.jpg/800px-Kosaciec_szczecinkowaty_Iris_setosa.jpg',\n",
    "        'versicolor':'https://upload.wikimedia.org/wikipedia/commons/thumb/2/27/Blue_Flag%2C_Ottawa.jpg/800px-Blue_Flag%2C_Ottawa.jpg',\n",
    "        'virginica':'https://upload.wikimedia.org/wikipedia/commons/thumb/9/9f/Iris_virginica.jpg/800px-Iris_virginica.jpg'}\n",
    "flowers['imgs'] = [urlmap[x] for x in flowers['species']]\n",
    "\n",
    "setosa=ColumnDataSource(flowers[flowers[\"species\"]==\"setosa\"])\n",
    "versicolor=ColumnDataSource(flowers[flowers[\"species\"]==\"versicolor\"])\n",
    "virginica=ColumnDataSource(flowers[flowers[\"species\"]==\"virginica\"])\n",
    "\n",
    "#Define the output file path\n",
    "output_file(\"iris.html\")\n",
    "\n",
    "#Create the figure object\n",
    "f=figure()\n",
    "\n",
    "#adding glyphs\n",
    "f.circle(x=\"petal_length\", y=\"petal_width\", size='size', fill_alpha=0.2,\n",
    "color = \"color\", line_dash=[5,3], legend='Setosa', source=setosa)\n",
    "\n",
    "f.circle(x=\"petal_length\", y=\"petal_width\", size='size', fill_alpha=0.2,\n",
    "color=\"color\", line_dash=[5,3], legend='Versicolor', source=versicolor)\n",
    "\n",
    "f.circle(x=\"petal_length\", y=\"petal_width\", size='size', fill_alpha=0.2,\n",
    "color=\"color\", line_dash=[5,3], legend='Virginica', source=virginica)\n",
    "\n",
    "labels = LabelSet(x='petal_length', y='petal_width', text='sepal_length', \n",
    "level='glyph', x_offset=5, y_offset=5, source=virginica)\n",
    "\n",
    "f.add_layout(labels)\n",
    "\n",
    "#Style the tools\n",
    "f.tools = [PanTool(),ResetTool()]\n",
    "hover = HoverTool(tooltips=\"\"\"\n",
    "     <div>\n",
    "            <div>\n",
    "                <img\n",
    "                    src=\"@imgs\" height=\"42\" alt=\"@imgs\" width=\"42\"\n",
    "                    style=\"float: left; margin: 0px 15px 15px 0px;\"\n",
    "                    border=\"2\"\n",
    "                ></img>\n",
    "            </div>\n",
    "            <div>\n",
    "                <span style=\"font-size: 15px; font-weight: bold;\">@species</span>\n",
    "            </div>\n",
    "            <div>\n",
    "                <span style=\"font-size: 10px; color: #696;\">Petal length: @petal_length</span><br>\n",
    "                <span style=\"font-size: 10px; color: #696;\">Petal width: @petal_width</span>\n",
    "            </div>\n",
    "        </div>\n",
    "\"\"\")\n",
    "f.add_tools(hover)\n",
    "f.toolbar_location = 'above'\n",
    "f.toolbar.logo = None\n",
    "\n",
    "#Style the legend\n",
    "f.legend.location = (575,555)\n",
    "f.legend.location = 'top_left'\n",
    "f.legend.background_fill_alpha = 0\n",
    "f.legend.border_line_color = None\n",
    "f.legend.margin = 10\n",
    "f.legend.padding = 18\n",
    "f.legend.label_text_color = 'olive'\n",
    "f.legend.label_text_font = 'times'\n",
    "\n",
    "#Save and show the figure\n",
    "show(f)\n"
   ]
  },
  {
   "cell_type": "markdown",
   "metadata": {},
   "source": [
    "# Gridplots"
   ]
  },
  {
   "cell_type": "code",
   "execution_count": 12,
   "metadata": {
    "scrolled": true
   },
   "outputs": [],
   "source": [
    "from bokeh.plotting import figure\n",
    "from bokeh.io import output_file, show\n",
    "from bokeh.layouts import gridplot\n",
    "\n",
    "#prepare the output file\n",
    "output_file(\"layout.html\")\n",
    "\n",
    "x1, y1 = list(range(0, 10)), list(range(10, 20))\n",
    "x2, y2 = list(range(20, 30)), list(range(30, 40))\n",
    "x3, y3 = list(range(40, 50)), list(range(50, 60))\n",
    "\n",
    "# create a new plot\n",
    "f1 = figure(width=250, height=250, title=\"Circles\")\n",
    "f1.circle(x1, y1, size=10, color=\"navy\", alpha=0.5)\n",
    "\n",
    "# create another one\n",
    "f2 = figure(width=250, height=250, title=\"Triangle\")\n",
    "f2.triangle(x2, y2, size=10, color=\"firebrick\", alpha=0.5)\n",
    "\n",
    "# create another\n",
    "f3 = figure(width=250, height=250, title=\"Triangle\")\n",
    "f3.triangle(x3, y3, size=10, color=\"olive\", alpha=0.5)\n",
    "\n",
    "#put all the plots in a grid layout\n",
    "f = gridplot([[f1, f2], [None, f3]])\n",
    "\n",
    "#show the result\n",
    "show(f)"
   ]
  },
  {
   "cell_type": "markdown",
   "metadata": {},
   "source": [
    "# Creating span annotations depicting averages"
   ]
  },
  {
   "cell_type": "code",
   "execution_count": 16,
   "metadata": {},
   "outputs": [],
   "source": [
    "#Multiple/grid plots with gridplot\n",
    "from bokeh.plotting import figure, output_file, show\n",
    "from bokeh.layouts import gridplot\n",
    "from bokeh.models.annotations import Span, BoxAnnotation\n",
    "\n",
    "#Prepare the output file\n",
    "output_file(\"layout.html\")\n",
    "\n",
    "x1, y1 = list(range(0,10)), list(range(10,20))\n",
    "x2, y2 = list(range(20,30)), list(range(30,40))\n",
    "x3, y3 = list(range(40,50)), list(range(50,60))\n",
    "\n",
    "# create a new plot\n",
    "f1 = figure(width=250, plot_height=250, title=\"Circles\")\n",
    "f1.circle(x1, y1, size=10, color=\"navy\", alpha=0.5)\n",
    "\n",
    "# create another one\n",
    "f2 = figure(width=250, height=250, title=\"Triangles\")\n",
    "f2.triangle(x2, y2, size=10, color=\"firebrick\", alpha=0.5)\n",
    "\n",
    "# create and another\n",
    "f3 = figure(width=250, height=250, title=\"Squares\")\n",
    "f3.square(x3, y3, size=10, color=\"olive\", alpha=0.5)\n",
    "\n",
    "#create a span annotation\n",
    "span_4 = Span(location=4,dimension='height',line_color='green',line_width=2)\n",
    "f1.add_layout(span_4)\n",
    "\n",
    "#create a box annotation\n",
    "box_2_6 = BoxAnnotation(left=2, right=6, fill_color=\"firebrick\", fill_alpha=0.3)\n",
    "f1.add_layout(box_2_6)\n",
    "\n",
    "# put all the plots in a grid layout\n",
    "f = gridplot([[f1, f2], [None, f3]])\n",
    "\n",
    "# show the results\n",
    "show(f)"
   ]
  },
  {
   "cell_type": "markdown",
   "metadata": {},
   "source": [
    "## Second Example"
   ]
  },
  {
   "cell_type": "code",
   "execution_count": 15,
   "metadata": {},
   "outputs": [],
   "source": [
    "#Importing libraries\n",
    "from bokeh.plotting import figure\n",
    "from bokeh.io import output_file, show\n",
    "from bokeh.sampledata.periodic_table import elements\n",
    "from bokeh.models import Range1d, PanTool, ResetTool, HoverTool, ColumnDataSource, LabelSet\n",
    "from bokeh.models.annotations import Span, BoxAnnotation, Label, LabelSet\n",
    " \n",
    "#Remove rows with NaN values and then map standard states to colors\n",
    "elements.dropna(inplace=True) #if inplace is not set to True the changes are not written to the dataframe\n",
    "colormap = {'gas':'yellow', 'liquid':'orange', 'solid':'red'}\n",
    "elements['color'] = [colormap[x] for x in elements['standard state']]\n",
    "elements['size'] = elements['van der Waals radius'] / 10\n",
    " \n",
    "#Create three ColumnDataSources for elements of unique standard states\n",
    "gas = ColumnDataSource(elements[elements['standard state']=='gas'])\n",
    "liquid = ColumnDataSource(elements[elements['standard state']=='liquid'])\n",
    "solid = ColumnDataSource(elements[elements['standard state']=='solid'])\n",
    " \n",
    "#Define the output file path\n",
    "output_file(\"elements_annotations.html\")\n",
    " \n",
    "#Create the figure object\n",
    "f=figure()\n",
    " \n",
    "#adding glyphs\n",
    "f.circle(x=\"atomic radius\", y=\"boiling point\", size='size',\n",
    "         fill_alpha=0.2, color=\"color\", legend='Gas', source=gas)\n",
    " \n",
    "f.circle(x=\"atomic radius\", y=\"boiling point\", size='size',\n",
    "         fill_alpha=0.2, color=\"color\", legend='Liquid', source=liquid)\n",
    " \n",
    "f.circle(x=\"atomic radius\", y=\"boiling point\", size='size',\n",
    "         fill_alpha=0.2,color=\"color\",legend='Solid',source=solid)\n",
    " \n",
    "#Add axis labels \n",
    "f.xaxis.axis_label = \"Atomic radius\"\n",
    "f.yaxis.axis_label = \"Boiling point\"\n",
    " \n",
    "#Calculate the average boiling point for all three groups by dividing the sum by the number of values\n",
    "gas_average_boil = sum(gas.data['boiling point']) / len(gas.data['boiling point'])\n",
    "liquid_average_boil = sum(liquid.data['boiling point']) / len(liquid.data['boiling point'])\n",
    "solid_average_boil = sum(solid.data['boiling point']) / len(solid.data['boiling point'])\n",
    " \n",
    "#Create three spans\n",
    "span_gas_average_boil = Span(location=gas_average_boil, dimension='width', line_color='yellow', line_width=2)\n",
    "span_liquid_average_boil = Span(location=liquid_average_boil, dimension='width', line_color='orange', line_width=2)\n",
    "span_solid_average_boil = Span(location=solid_average_boil, dimension='width', line_color='red', line_width=2)\n",
    "\n",
    "Span()\n",
    " \n",
    "#Add spans to the figure\n",
    "f.add_layout(span_gas_average_boil)\n",
    "f.add_layout(span_liquid_average_boil)\n",
    "f.add_layout(span_solid_average_boil)\n",
    " \n",
    "#Save and show the figure\n",
    "show(f)"
   ]
  },
  {
   "cell_type": "markdown",
   "metadata": {},
   "source": [
    "# Annotations Labels and LabelSets"
   ]
  },
  {
   "cell_type": "code",
   "execution_count": 17,
   "metadata": {},
   "outputs": [],
   "source": [
    "#Categorical axes\n",
    "\n",
    "#importing libraries\n",
    "from bokeh.plotting import figure\n",
    "from bokeh.io import output_file, show\n",
    "from bokeh.models.annotations import Label, LabelSet\n",
    "from bokeh.models import ColumnDataSource\n",
    "\n",
    "#prepare the output\n",
    "output_file(\"students.html\")\n",
    "\n",
    "#crate columndatasource\n",
    "source=ColumnDataSource(dict(average_grades=[\"B+\",\"A\",\"D-\"],\n",
    "                             exam_grades=[\"A+\",\"C\",\"D\"],\n",
    "                             student_names=[\"Stephan\",\"Helder\",\"Riazudidn\"]))\n",
    "\n",
    "#create the figure\n",
    "f = figure(x_range=[\"F\",\"D-\",\"D\",\"D+\",\"C-\",\"C\",\"C+\",\"B-\",\"B\",\"B+\",\"A-\",\"A\",\"A+\"],\n",
    "           y_range=[\"F\",\"D-\",\"D\",\"D+\",\"C-\",\"C\",\"C+\",\"B-\",\"B\",\"B+\",\"A-\",\"A\",\"A+\"])\n",
    "\n",
    "#add description label\n",
    "description=Label(x=7,y=1,text=\"This graph shows average grades and exam grades for 3rd grade students\",render_mode=\"css\")\n",
    "f.add_layout(description)\n",
    "\n",
    "#add labels for glyphs\n",
    "labels=LabelSet(x=\"average_grades\",y=\"exam_grades\",text=\"student_names\",x_offset=5, y_offset=5, source=source)\n",
    "f.add_layout(labels)\n",
    "\n",
    "#create glyphs\n",
    "f.circle(x=\"average_grades\", y=\"exam_grades\", source=source, size=8)\n",
    "\n",
    "show(f)\n"
   ]
  },
  {
   "cell_type": "markdown",
   "metadata": {},
   "source": [
    "##### Creating label annotations for spans"
   ]
  },
  {
   "cell_type": "code",
   "execution_count": 18,
   "metadata": {},
   "outputs": [],
   "source": [
    "#Importing libraries\n",
    "from bokeh.plotting import figure\n",
    "from bokeh.io import output_file, show\n",
    "from bokeh.sampledata.periodic_table import elements\n",
    "from bokeh.models import Range1d, PanTool, ResetTool, HoverTool, ColumnDataSource, LabelSet\n",
    "from bokeh.models.annotations import Span, BoxAnnotation, Label, LabelSet\n",
    "\n",
    "#Remove rows with NaN values and then map standard states to colors\n",
    "elements.dropna(inplace=True) #if inplace is not set to True the changes are not written to the dataframe\n",
    "colormap = {'gas':'yellow', 'liquid':'orange', 'solid':'red'}\n",
    "elements['color'] = [colormap[x] for x in elements['standard state']]\n",
    "elements['size'] = elements['van der Waals radius'] / 10\n",
    "\n",
    "#Create three ColumnDataSources for elements of unique standard states\n",
    "gas = ColumnDataSource(elements[elements['standard state']=='gas'])\n",
    "liquid = ColumnDataSource(elements[elements['standard state']=='liquid'])\n",
    "solid = ColumnDataSource(elements[elements['standard state']=='solid'])\n",
    "\n",
    "#Define the output file path\n",
    "output_file(\"elements_annotations.html\")\n",
    "\n",
    "#Create the figure object\n",
    "f=figure()\n",
    "\n",
    "#adding glyphs\n",
    "f.circle(x=\"atomic radius\", y=\"boiling point\", size='size',\n",
    "         fill_alpha=0.2,color=\"color\", legend='Gas', source=gas)\n",
    "f.circle(x=\"atomic radius\", y=\"boiling point\", size='size',\n",
    "         fill_alpha=0.2,color=\"color\", legend='Liquid', source=liquid)\n",
    "f.circle(x=\"atomic radius\", y=\"boiling point\", size='size',\n",
    "         fill_alpha=0.2 ,color=\"color\", legend='Solid', source=solid)\n",
    "\n",
    "#Add axis labels \n",
    "f.xaxis.axis_label = \"Atomic radius\"\n",
    "f.yaxis.axis_label = \"Boiling point\"\n",
    "\n",
    "#Calculate the average boiling point for all three groups by dividing the sum by the number of values\n",
    "gas_average_boil = sum(gas.data['boiling point']) / len(gas.data['boiling point'])\n",
    "liquid_average_boil = sum(liquid.data['boiling point']) / len(liquid.data['boiling point'])\n",
    "solid_average_boil = sum(solid.data['boiling point']) / len(solid.data['boiling point'])\n",
    "\n",
    "#Create three spans\n",
    "span_gas_average_boil = Span(location=gas_average_boil, dimension='width', line_color='yellow', line_width=2)\n",
    "span_liquid_average_boil = Span(location=liquid_average_boil, dimension='width', line_color='orange', line_width=2)\n",
    "span_solid_average_boil=Span(location=solid_average_boil, dimension='width', line_color='red', line_width=2)\n",
    "\n",
    "#Add spans to the figure\n",
    "f.add_layout(span_gas_average_boil)\n",
    "f.add_layout(span_liquid_average_boil)\n",
    "f.add_layout(span_solid_average_boil)\n",
    "\n",
    "#Add labels to spans\n",
    "label_span_gas_average_boil=Label(x=80, y=gas_average_boil, text=\"Gas average boiling point\", render_mode=\"css\",\n",
    "                                 text_font_size=\"10px\")\n",
    "label_span_liquid_average_boil=Label(x=80, y=liquid_average_boil, text=\"Liquid average boiling point\", render_mode=\"css\",\n",
    "                                    text_font_size=\"10px\")\n",
    "label_span_solid_average_boil=Label(x=80, y=solid_average_boil, text=\"Solid average boiling point\", render_mode=\"css\",\n",
    "                                   text_font_size=\"10px\")\n",
    "\n",
    "#Add labels to figure\n",
    "f.add_layout(label_span_gas_average_boil)\n",
    "f.add_layout(label_span_liquid_average_boil)\n",
    "f.add_layout(label_span_solid_average_boil)\n",
    "\n",
    "#Save and show the figure\n",
    "show(f)"
   ]
  }
 ],
 "metadata": {
  "kernelspec": {
   "display_name": "Python 3",
   "language": "python",
   "name": "python3"
  },
  "language_info": {
   "codemirror_mode": {
    "name": "ipython",
    "version": 3
   },
   "file_extension": ".py",
   "mimetype": "text/x-python",
   "name": "python",
   "nbconvert_exporter": "python",
   "pygments_lexer": "ipython3",
   "version": "3.7.3"
  }
 },
 "nbformat": 4,
 "nbformat_minor": 2
}
