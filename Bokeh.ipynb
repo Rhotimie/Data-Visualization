{
 "cells": [
  {
   "cell_type": "markdown",
   "metadata": {},
   "source": [
    "# making a basic bokeh graph"
   ]
  },
  {
   "cell_type": "markdown",
   "metadata": {},
   "source": [
    "##### Bokeh is a third party Python library used to create interactive data visualization on the browser.\n",
    "##### Bokeh can also create complete web apps with graphs, user widgets, and other types of web content.\n",
    "##### data for visualization can be in the form PYTHON LIST, CSV FILES,\n",
    "##### data visualization is rendered by python into some sort of HTML, CSS, JAVASCRIPT\n",
    "##### widgets(like filter data, label, graph features) allow the user to interact with the graph"
   ]
  },
  {
   "cell_type": "code",
   "execution_count": 2,
   "metadata": {},
   "outputs": [],
   "source": [
    "# importing bokeh\n",
    "from bokeh.plotting import figure\n",
    "from bokeh.io import output_file, show"
   ]
  },
  {
   "cell_type": "code",
   "execution_count": 3,
   "metadata": {
    "scrolled": true
   },
   "outputs": [
    {
     "data": {
      "text/plain": [
       "['__cached_all__overridden_defaults__',\n",
       " '__cached_all__properties__',\n",
       " '__class__',\n",
       " '__container_props__',\n",
       " '__dataspecs__',\n",
       " '__delattr__',\n",
       " '__dict__',\n",
       " '__dir__',\n",
       " '__doc__',\n",
       " '__eq__',\n",
       " '__format__',\n",
       " '__ge__',\n",
       " '__getattribute__',\n",
       " '__gt__',\n",
       " '__hash__',\n",
       " '__init__',\n",
       " '__init_subclass__',\n",
       " '__le__',\n",
       " '__lt__',\n",
       " '__module__',\n",
       " '__ne__',\n",
       " '__new__',\n",
       " '__overridden_defaults__',\n",
       " '__properties__',\n",
       " '__properties_with_refs__',\n",
       " '__reduce__',\n",
       " '__reduce_ex__',\n",
       " '__repr__',\n",
       " '__setattr__',\n",
       " '__sizeof__',\n",
       " '__str__',\n",
       " '__subclasshook__',\n",
       " '__subtype__',\n",
       " '__view_model__',\n",
       " '__weakref__',\n",
       " '_attach_document',\n",
       " '_axis',\n",
       " '_callbacks',\n",
       " '_check_bad_extra_range_name',\n",
       " '_check_compatible_scale_and_ranges',\n",
       " '_check_missing_renderers',\n",
       " '_check_required_range',\n",
       " '_check_required_scale',\n",
       " '_clear_extensions',\n",
       " '_clone',\n",
       " '_detach_document',\n",
       " '_document',\n",
       " '_event_callbacks',\n",
       " '_grid',\n",
       " '_id',\n",
       " '_overridden_defaults',\n",
       " '_property_values',\n",
       " '_repr_html_',\n",
       " '_scale',\n",
       " '_scatter',\n",
       " '_temp_document',\n",
       " '_to_json_like',\n",
       " '_trigger_event',\n",
       " '_unstable_default_values',\n",
       " '_unstable_themed_values',\n",
       " '_update_event_callbacks',\n",
       " 'above',\n",
       " 'add_glyph',\n",
       " 'add_layout',\n",
       " 'add_tile',\n",
       " 'add_tools',\n",
       " 'annular_wedge',\n",
       " 'annulus',\n",
       " 'apply_theme',\n",
       " 'arc',\n",
       " 'aspect_scale',\n",
       " 'asterisk',\n",
       " 'axis',\n",
       " 'background_fill_alpha',\n",
       " 'background_fill_color',\n",
       " 'below',\n",
       " 'bezier',\n",
       " 'border_fill_alpha',\n",
       " 'border_fill_color',\n",
       " 'circle',\n",
       " 'circle_cross',\n",
       " 'circle_x',\n",
       " 'column',\n",
       " 'cross',\n",
       " 'css_classes',\n",
       " 'dash',\n",
       " 'dataspecs',\n",
       " 'dataspecs_with_props',\n",
       " 'diamond',\n",
       " 'diamond_cross',\n",
       " 'disabled',\n",
       " 'document',\n",
       " 'ellipse',\n",
       " 'equals',\n",
       " 'extra_x_ranges',\n",
       " 'extra_y_ranges',\n",
       " 'graph',\n",
       " 'grid',\n",
       " 'h_symmetry',\n",
       " 'hbar',\n",
       " 'hbar_stack',\n",
       " 'height',\n",
       " 'hex',\n",
       " 'hex_tile',\n",
       " 'hexbin',\n",
       " 'hidpi',\n",
       " 'hover',\n",
       " 'id',\n",
       " 'image',\n",
       " 'image_rgba',\n",
       " 'image_url',\n",
       " 'inner_height',\n",
       " 'inner_width',\n",
       " 'inverted_triangle',\n",
       " 'js_event_callbacks',\n",
       " 'js_on_change',\n",
       " 'js_on_event',\n",
       " 'js_property_callbacks',\n",
       " 'layout',\n",
       " 'layout_height',\n",
       " 'layout_width',\n",
       " 'left',\n",
       " 'legend',\n",
       " 'line',\n",
       " 'lod_factor',\n",
       " 'lod_interval',\n",
       " 'lod_threshold',\n",
       " 'lod_timeout',\n",
       " 'lookup',\n",
       " 'match_aspect',\n",
       " 'min_border',\n",
       " 'min_border_bottom',\n",
       " 'min_border_left',\n",
       " 'min_border_right',\n",
       " 'min_border_top',\n",
       " 'multi_line',\n",
       " 'multi_polygons',\n",
       " 'name',\n",
       " 'on_change',\n",
       " 'on_event',\n",
       " 'outline_line_alpha',\n",
       " 'outline_line_cap',\n",
       " 'outline_line_color',\n",
       " 'outline_line_dash',\n",
       " 'outline_line_dash_offset',\n",
       " 'outline_line_join',\n",
       " 'outline_line_width',\n",
       " 'output_backend',\n",
       " 'oval',\n",
       " 'patch',\n",
       " 'patches',\n",
       " 'plot_height',\n",
       " 'plot_width',\n",
       " 'properties',\n",
       " 'properties_containers',\n",
       " 'properties_with_refs',\n",
       " 'properties_with_values',\n",
       " 'quad',\n",
       " 'quadratic',\n",
       " 'query_properties_with_values',\n",
       " 'ray',\n",
       " 'rect',\n",
       " 'ref',\n",
       " 'references',\n",
       " 'remove_on_change',\n",
       " 'renderers',\n",
       " 'right',\n",
       " 'row',\n",
       " 'scatter',\n",
       " 'segment',\n",
       " 'select',\n",
       " 'select_one',\n",
       " 'set_from_json',\n",
       " 'set_select',\n",
       " 'sizing_mode',\n",
       " 'square',\n",
       " 'square_cross',\n",
       " 'square_x',\n",
       " 'step',\n",
       " 'subscribed_events',\n",
       " 'tags',\n",
       " 'text',\n",
       " 'themed_values',\n",
       " 'title',\n",
       " 'title_location',\n",
       " 'to_json',\n",
       " 'to_json_string',\n",
       " 'toolbar',\n",
       " 'toolbar_location',\n",
       " 'toolbar_sticky',\n",
       " 'tools',\n",
       " 'triangle',\n",
       " 'trigger',\n",
       " 'unapply_theme',\n",
       " 'update',\n",
       " 'update_from_json',\n",
       " 'v_symmetry',\n",
       " 'vbar',\n",
       " 'vbar_stack',\n",
       " 'wedge',\n",
       " 'width',\n",
       " 'x',\n",
       " 'x_range',\n",
       " 'x_scale',\n",
       " 'xaxis',\n",
       " 'xgrid',\n",
       " 'y_range',\n",
       " 'y_scale',\n",
       " 'yaxis',\n",
       " 'ygrid']"
      ]
     },
     "execution_count": 3,
     "metadata": {},
     "output_type": "execute_result"
    }
   ],
   "source": [
    "dir(figure())"
   ]
  },
  {
   "cell_type": "code",
   "execution_count": 4,
   "metadata": {},
   "outputs": [],
   "source": [
    "# sample data\n",
    "x = [1,2,3,4,5]\n",
    "y = [(2*n)+2 for n in x]"
   ]
  },
  {
   "cell_type": "markdown",
   "metadata": {},
   "source": [
    "## using pandas to load data"
   ]
  },
  {
   "cell_type": "code",
   "execution_count": 5,
   "metadata": {},
   "outputs": [
    {
     "data": {
      "text/html": [
       "<div>\n",
       "<style scoped>\n",
       "    .dataframe tbody tr th:only-of-type {\n",
       "        vertical-align: middle;\n",
       "    }\n",
       "\n",
       "    .dataframe tbody tr th {\n",
       "        vertical-align: top;\n",
       "    }\n",
       "\n",
       "    .dataframe thead th {\n",
       "        text-align: right;\n",
       "    }\n",
       "</style>\n",
       "<table border=\"1\" class=\"dataframe\">\n",
       "  <thead>\n",
       "    <tr style=\"text-align: right;\">\n",
       "      <th></th>\n",
       "      <th>x</th>\n",
       "      <th>y</th>\n",
       "    </tr>\n",
       "  </thead>\n",
       "  <tbody>\n",
       "    <tr>\n",
       "      <th>0</th>\n",
       "      <td>1</td>\n",
       "      <td>6</td>\n",
       "    </tr>\n",
       "    <tr>\n",
       "      <th>1</th>\n",
       "      <td>2</td>\n",
       "      <td>7</td>\n",
       "    </tr>\n",
       "    <tr>\n",
       "      <th>2</th>\n",
       "      <td>3</td>\n",
       "      <td>8</td>\n",
       "    </tr>\n",
       "    <tr>\n",
       "      <th>3</th>\n",
       "      <td>4</td>\n",
       "      <td>9</td>\n",
       "    </tr>\n",
       "    <tr>\n",
       "      <th>4</th>\n",
       "      <td>5</td>\n",
       "      <td>10</td>\n",
       "    </tr>\n",
       "  </tbody>\n",
       "</table>\n",
       "</div>"
      ],
      "text/plain": [
       "   x   y\n",
       "0  1   6\n",
       "1  2   7\n",
       "2  3   8\n",
       "3  4   9\n",
       "4  5  10"
      ]
     },
     "execution_count": 5,
     "metadata": {},
     "output_type": "execute_result"
    }
   ],
   "source": [
    "import pandas\n",
    "df = pandas.read_csv(\"data.csv\")\n",
    "c = df[\"x\"]\n",
    "d = df[\"y\"]\n",
    "df"
   ]
  },
  {
   "cell_type": "code",
   "execution_count": 6,
   "metadata": {},
   "outputs": [
    {
     "data": {
      "text/plain": [
       "pandas.core.series.Series"
      ]
     },
     "execution_count": 6,
     "metadata": {},
     "output_type": "execute_result"
    }
   ],
   "source": [
    "type(df[\"x\"])"
   ]
  },
  {
   "cell_type": "code",
   "execution_count": 7,
   "metadata": {},
   "outputs": [
    {
     "data": {
      "text/plain": [
       "pandas.core.series.Series"
      ]
     },
     "execution_count": 7,
     "metadata": {},
     "output_type": "execute_result"
    }
   ],
   "source": [
    "type(df[\"y\"])"
   ]
  },
  {
   "cell_type": "markdown",
   "metadata": {},
   "source": [
    "## output file"
   ]
  },
  {
   "cell_type": "code",
   "execution_count": 8,
   "metadata": {},
   "outputs": [],
   "source": [
    "output_file(\"Line.html\")"
   ]
  },
  {
   "cell_type": "markdown",
   "metadata": {},
   "source": [
    "## creating line plot"
   ]
  },
  {
   "cell_type": "code",
   "execution_count": 10,
   "metadata": {},
   "outputs": [
    {
     "data": {
      "text/html": [
       "<div style=\"display: table;\"><div style=\"display: table-row;\"><div style=\"display: table-cell;\"><b title=\"bokeh.models.renderers.GlyphRenderer\">GlyphRenderer</b>(</div><div style=\"display: table-cell;\">id&nbsp;=&nbsp;'1117', <span id=\"1120\" style=\"cursor: pointer;\">&hellip;)</span></div></div><div class=\"1119\" style=\"display: none;\"><div style=\"display: table-cell;\"></div><div style=\"display: table-cell;\">data_source&nbsp;=&nbsp;ColumnDataSource(id='1114', ...),</div></div><div class=\"1119\" style=\"display: none;\"><div style=\"display: table-cell;\"></div><div style=\"display: table-cell;\">glyph&nbsp;=&nbsp;Line(id='1115', ...),</div></div><div class=\"1119\" style=\"display: none;\"><div style=\"display: table-cell;\"></div><div style=\"display: table-cell;\">hover_glyph&nbsp;=&nbsp;None,</div></div><div class=\"1119\" style=\"display: none;\"><div style=\"display: table-cell;\"></div><div style=\"display: table-cell;\">js_event_callbacks&nbsp;=&nbsp;{},</div></div><div class=\"1119\" style=\"display: none;\"><div style=\"display: table-cell;\"></div><div style=\"display: table-cell;\">js_property_callbacks&nbsp;=&nbsp;{},</div></div><div class=\"1119\" style=\"display: none;\"><div style=\"display: table-cell;\"></div><div style=\"display: table-cell;\">level&nbsp;=&nbsp;'glyph',</div></div><div class=\"1119\" style=\"display: none;\"><div style=\"display: table-cell;\"></div><div style=\"display: table-cell;\">muted&nbsp;=&nbsp;False,</div></div><div class=\"1119\" style=\"display: none;\"><div style=\"display: table-cell;\"></div><div style=\"display: table-cell;\">muted_glyph&nbsp;=&nbsp;None,</div></div><div class=\"1119\" style=\"display: none;\"><div style=\"display: table-cell;\"></div><div style=\"display: table-cell;\">name&nbsp;=&nbsp;None,</div></div><div class=\"1119\" style=\"display: none;\"><div style=\"display: table-cell;\"></div><div style=\"display: table-cell;\">nonselection_glyph&nbsp;=&nbsp;Line(id='1116', ...),</div></div><div class=\"1119\" style=\"display: none;\"><div style=\"display: table-cell;\"></div><div style=\"display: table-cell;\">selection_glyph&nbsp;=&nbsp;None,</div></div><div class=\"1119\" style=\"display: none;\"><div style=\"display: table-cell;\"></div><div style=\"display: table-cell;\">subscribed_events&nbsp;=&nbsp;[],</div></div><div class=\"1119\" style=\"display: none;\"><div style=\"display: table-cell;\"></div><div style=\"display: table-cell;\">tags&nbsp;=&nbsp;[],</div></div><div class=\"1119\" style=\"display: none;\"><div style=\"display: table-cell;\"></div><div style=\"display: table-cell;\">view&nbsp;=&nbsp;CDSView(id='1118', ...),</div></div><div class=\"1119\" style=\"display: none;\"><div style=\"display: table-cell;\"></div><div style=\"display: table-cell;\">visible&nbsp;=&nbsp;True,</div></div><div class=\"1119\" style=\"display: none;\"><div style=\"display: table-cell;\"></div><div style=\"display: table-cell;\">x_range_name&nbsp;=&nbsp;'default',</div></div><div class=\"1119\" style=\"display: none;\"><div style=\"display: table-cell;\"></div><div style=\"display: table-cell;\">y_range_name&nbsp;=&nbsp;'default')</div></div></div>\n",
       "<script>\n",
       "(function() {\n",
       "  var expanded = false;\n",
       "  var ellipsis = document.getElementById(\"1120\");\n",
       "  ellipsis.addEventListener(\"click\", function() {\n",
       "    var rows = document.getElementsByClassName(\"1119\");\n",
       "    for (var i = 0; i < rows.length; i++) {\n",
       "      var el = rows[i];\n",
       "      el.style.display = expanded ? \"none\" : \"table-row\";\n",
       "    }\n",
       "    ellipsis.innerHTML = expanded ? \"&hellip;)\" : \"&lsaquo;&lsaquo;&lsaquo;\";\n",
       "    expanded = !expanded;\n",
       "  });\n",
       "})();\n",
       "</script>\n"
      ],
      "text/plain": [
       "GlyphRenderer(id='1117', ...)"
      ]
     },
     "execution_count": 10,
     "metadata": {},
     "output_type": "execute_result"
    }
   ],
   "source": [
    "#create an object of figure\n",
    "f = figure(title=\"simple line plot\")\n",
    "\n",
    "# f.line(x, y)\n",
    "f.line(c, d)"
   ]
  },
  {
   "cell_type": "markdown",
   "metadata": {},
   "source": [
    "## creating circle plot"
   ]
  },
  {
   "cell_type": "code",
   "execution_count": 11,
   "metadata": {},
   "outputs": [
    {
     "data": {
      "text/html": [
       "<div style=\"display: table;\"><div style=\"display: table-row;\"><div style=\"display: table-cell;\"><b title=\"bokeh.models.renderers.GlyphRenderer\">GlyphRenderer</b>(</div><div style=\"display: table-cell;\">id&nbsp;=&nbsp;'1160', <span id=\"1163\" style=\"cursor: pointer;\">&hellip;)</span></div></div><div class=\"1162\" style=\"display: none;\"><div style=\"display: table-cell;\"></div><div style=\"display: table-cell;\">data_source&nbsp;=&nbsp;ColumnDataSource(id='1157', ...),</div></div><div class=\"1162\" style=\"display: none;\"><div style=\"display: table-cell;\"></div><div style=\"display: table-cell;\">glyph&nbsp;=&nbsp;Circle(id='1158', ...),</div></div><div class=\"1162\" style=\"display: none;\"><div style=\"display: table-cell;\"></div><div style=\"display: table-cell;\">hover_glyph&nbsp;=&nbsp;None,</div></div><div class=\"1162\" style=\"display: none;\"><div style=\"display: table-cell;\"></div><div style=\"display: table-cell;\">js_event_callbacks&nbsp;=&nbsp;{},</div></div><div class=\"1162\" style=\"display: none;\"><div style=\"display: table-cell;\"></div><div style=\"display: table-cell;\">js_property_callbacks&nbsp;=&nbsp;{},</div></div><div class=\"1162\" style=\"display: none;\"><div style=\"display: table-cell;\"></div><div style=\"display: table-cell;\">level&nbsp;=&nbsp;'glyph',</div></div><div class=\"1162\" style=\"display: none;\"><div style=\"display: table-cell;\"></div><div style=\"display: table-cell;\">muted&nbsp;=&nbsp;False,</div></div><div class=\"1162\" style=\"display: none;\"><div style=\"display: table-cell;\"></div><div style=\"display: table-cell;\">muted_glyph&nbsp;=&nbsp;None,</div></div><div class=\"1162\" style=\"display: none;\"><div style=\"display: table-cell;\"></div><div style=\"display: table-cell;\">name&nbsp;=&nbsp;None,</div></div><div class=\"1162\" style=\"display: none;\"><div style=\"display: table-cell;\"></div><div style=\"display: table-cell;\">nonselection_glyph&nbsp;=&nbsp;Circle(id='1159', ...),</div></div><div class=\"1162\" style=\"display: none;\"><div style=\"display: table-cell;\"></div><div style=\"display: table-cell;\">selection_glyph&nbsp;=&nbsp;None,</div></div><div class=\"1162\" style=\"display: none;\"><div style=\"display: table-cell;\"></div><div style=\"display: table-cell;\">subscribed_events&nbsp;=&nbsp;[],</div></div><div class=\"1162\" style=\"display: none;\"><div style=\"display: table-cell;\"></div><div style=\"display: table-cell;\">tags&nbsp;=&nbsp;[],</div></div><div class=\"1162\" style=\"display: none;\"><div style=\"display: table-cell;\"></div><div style=\"display: table-cell;\">view&nbsp;=&nbsp;CDSView(id='1161', ...),</div></div><div class=\"1162\" style=\"display: none;\"><div style=\"display: table-cell;\"></div><div style=\"display: table-cell;\">visible&nbsp;=&nbsp;True,</div></div><div class=\"1162\" style=\"display: none;\"><div style=\"display: table-cell;\"></div><div style=\"display: table-cell;\">x_range_name&nbsp;=&nbsp;'default',</div></div><div class=\"1162\" style=\"display: none;\"><div style=\"display: table-cell;\"></div><div style=\"display: table-cell;\">y_range_name&nbsp;=&nbsp;'default')</div></div></div>\n",
       "<script>\n",
       "(function() {\n",
       "  var expanded = false;\n",
       "  var ellipsis = document.getElementById(\"1163\");\n",
       "  ellipsis.addEventListener(\"click\", function() {\n",
       "    var rows = document.getElementsByClassName(\"1162\");\n",
       "    for (var i = 0; i < rows.length; i++) {\n",
       "      var el = rows[i];\n",
       "      el.style.display = expanded ? \"none\" : \"table-row\";\n",
       "    }\n",
       "    ellipsis.innerHTML = expanded ? \"&hellip;)\" : \"&lsaquo;&lsaquo;&lsaquo;\";\n",
       "    expanded = !expanded;\n",
       "  });\n",
       "})();\n",
       "</script>\n"
      ],
      "text/plain": [
       "GlyphRenderer(id='1160', ...)"
      ]
     },
     "execution_count": 11,
     "metadata": {},
     "output_type": "execute_result"
    }
   ],
   "source": [
    "#create an object of figure\n",
    "f = figure(title=\"simple circle plot\")\n",
    "\n",
    "f.circle(x, y)\n",
    "# f.line(c, d)"
   ]
  },
  {
   "cell_type": "markdown",
   "metadata": {},
   "source": [
    "## creating triangular plot"
   ]
  },
  {
   "cell_type": "code",
   "execution_count": 12,
   "metadata": {},
   "outputs": [
    {
     "data": {
      "text/html": [
       "<div style=\"display: table;\"><div style=\"display: table-row;\"><div style=\"display: table-cell;\"><b title=\"bokeh.models.renderers.GlyphRenderer\">GlyphRenderer</b>(</div><div style=\"display: table-cell;\">id&nbsp;=&nbsp;'1203', <span id=\"1206\" style=\"cursor: pointer;\">&hellip;)</span></div></div><div class=\"1205\" style=\"display: none;\"><div style=\"display: table-cell;\"></div><div style=\"display: table-cell;\">data_source&nbsp;=&nbsp;ColumnDataSource(id='1200', ...),</div></div><div class=\"1205\" style=\"display: none;\"><div style=\"display: table-cell;\"></div><div style=\"display: table-cell;\">glyph&nbsp;=&nbsp;Triangle(id='1201', ...),</div></div><div class=\"1205\" style=\"display: none;\"><div style=\"display: table-cell;\"></div><div style=\"display: table-cell;\">hover_glyph&nbsp;=&nbsp;None,</div></div><div class=\"1205\" style=\"display: none;\"><div style=\"display: table-cell;\"></div><div style=\"display: table-cell;\">js_event_callbacks&nbsp;=&nbsp;{},</div></div><div class=\"1205\" style=\"display: none;\"><div style=\"display: table-cell;\"></div><div style=\"display: table-cell;\">js_property_callbacks&nbsp;=&nbsp;{},</div></div><div class=\"1205\" style=\"display: none;\"><div style=\"display: table-cell;\"></div><div style=\"display: table-cell;\">level&nbsp;=&nbsp;'glyph',</div></div><div class=\"1205\" style=\"display: none;\"><div style=\"display: table-cell;\"></div><div style=\"display: table-cell;\">muted&nbsp;=&nbsp;False,</div></div><div class=\"1205\" style=\"display: none;\"><div style=\"display: table-cell;\"></div><div style=\"display: table-cell;\">muted_glyph&nbsp;=&nbsp;None,</div></div><div class=\"1205\" style=\"display: none;\"><div style=\"display: table-cell;\"></div><div style=\"display: table-cell;\">name&nbsp;=&nbsp;None,</div></div><div class=\"1205\" style=\"display: none;\"><div style=\"display: table-cell;\"></div><div style=\"display: table-cell;\">nonselection_glyph&nbsp;=&nbsp;Triangle(id='1202', ...),</div></div><div class=\"1205\" style=\"display: none;\"><div style=\"display: table-cell;\"></div><div style=\"display: table-cell;\">selection_glyph&nbsp;=&nbsp;None,</div></div><div class=\"1205\" style=\"display: none;\"><div style=\"display: table-cell;\"></div><div style=\"display: table-cell;\">subscribed_events&nbsp;=&nbsp;[],</div></div><div class=\"1205\" style=\"display: none;\"><div style=\"display: table-cell;\"></div><div style=\"display: table-cell;\">tags&nbsp;=&nbsp;[],</div></div><div class=\"1205\" style=\"display: none;\"><div style=\"display: table-cell;\"></div><div style=\"display: table-cell;\">view&nbsp;=&nbsp;CDSView(id='1204', ...),</div></div><div class=\"1205\" style=\"display: none;\"><div style=\"display: table-cell;\"></div><div style=\"display: table-cell;\">visible&nbsp;=&nbsp;True,</div></div><div class=\"1205\" style=\"display: none;\"><div style=\"display: table-cell;\"></div><div style=\"display: table-cell;\">x_range_name&nbsp;=&nbsp;'default',</div></div><div class=\"1205\" style=\"display: none;\"><div style=\"display: table-cell;\"></div><div style=\"display: table-cell;\">y_range_name&nbsp;=&nbsp;'default')</div></div></div>\n",
       "<script>\n",
       "(function() {\n",
       "  var expanded = false;\n",
       "  var ellipsis = document.getElementById(\"1206\");\n",
       "  ellipsis.addEventListener(\"click\", function() {\n",
       "    var rows = document.getElementsByClassName(\"1205\");\n",
       "    for (var i = 0; i < rows.length; i++) {\n",
       "      var el = rows[i];\n",
       "      el.style.display = expanded ? \"none\" : \"table-row\";\n",
       "    }\n",
       "    ellipsis.innerHTML = expanded ? \"&hellip;)\" : \"&lsaquo;&lsaquo;&lsaquo;\";\n",
       "    expanded = !expanded;\n",
       "  });\n",
       "})();\n",
       "</script>\n"
      ],
      "text/plain": [
       "GlyphRenderer(id='1203', ...)"
      ]
     },
     "execution_count": 12,
     "metadata": {},
     "output_type": "execute_result"
    }
   ],
   "source": [
    "#create an object of figure\n",
    "f = figure(title=\"simple triangle plot\")\n",
    "\n",
    "f.triangle(x, y)\n",
    "# f.line(c, d)"
   ]
  },
  {
   "cell_type": "code",
   "execution_count": 13,
   "metadata": {},
   "outputs": [],
   "source": [
    "#show plot\n",
    "show(f)"
   ]
  },
  {
   "cell_type": "markdown",
   "metadata": {},
   "source": [
    "## bokeh and pandas classwork"
   ]
  },
  {
   "cell_type": "code",
   "execution_count": 15,
   "metadata": {},
   "outputs": [],
   "source": [
    "dfa = pandas.read_csv(\"bachelors.csv\")"
   ]
  },
  {
   "cell_type": "code",
   "execution_count": 19,
   "metadata": {},
   "outputs": [],
   "source": [
    "dfa\n",
    "v = dfa[\"Engineering\"]\n",
    "h = dfa[\"Year\"]\n",
    "\n",
    "s = figure()\n",
    "s.xaxis.axis_label = \"Year\"\n",
    "s.yaxis.axis_label = \"Engineering\"\n",
    "s.line(h, v)\n",
    "\n",
    "output_file(\"Line_from_bachelors.html\")\n",
    "show(s)"
   ]
  },
  {
   "cell_type": "markdown",
   "metadata": {},
   "source": [
    "# Customizing Bokeh Graphs"
   ]
  },
  {
   "cell_type": "code",
   "execution_count": 18,
   "metadata": {},
   "outputs": [],
   "source": [
    "from bokeh.sampledata.iris import flowers\n",
    "from bokeh.models import Range1d, PanTool, ResetTool, HoverTool"
   ]
  },
  {
   "cell_type": "code",
   "execution_count": 26,
   "metadata": {},
   "outputs": [
    {
     "data": {
      "text/plain": [
       "pandas.core.frame.DataFrame"
      ]
     },
     "execution_count": 26,
     "metadata": {},
     "output_type": "execute_result"
    }
   ],
   "source": [
    "type(flowers)"
   ]
  },
  {
   "cell_type": "code",
   "execution_count": 28,
   "metadata": {},
   "outputs": [
    {
     "data": {
      "text/html": [
       "<div>\n",
       "<style scoped>\n",
       "    .dataframe tbody tr th:only-of-type {\n",
       "        vertical-align: middle;\n",
       "    }\n",
       "\n",
       "    .dataframe tbody tr th {\n",
       "        vertical-align: top;\n",
       "    }\n",
       "\n",
       "    .dataframe thead th {\n",
       "        text-align: right;\n",
       "    }\n",
       "</style>\n",
       "<table border=\"1\" class=\"dataframe\">\n",
       "  <thead>\n",
       "    <tr style=\"text-align: right;\">\n",
       "      <th></th>\n",
       "      <th>sepal_length</th>\n",
       "      <th>sepal_width</th>\n",
       "      <th>petal_length</th>\n",
       "      <th>petal_width</th>\n",
       "      <th>species</th>\n",
       "      <th>color</th>\n",
       "    </tr>\n",
       "  </thead>\n",
       "  <tbody>\n",
       "    <tr>\n",
       "      <th>0</th>\n",
       "      <td>5.1</td>\n",
       "      <td>3.5</td>\n",
       "      <td>1.4</td>\n",
       "      <td>0.2</td>\n",
       "      <td>setosa</td>\n",
       "      <td>red</td>\n",
       "    </tr>\n",
       "    <tr>\n",
       "      <th>1</th>\n",
       "      <td>4.9</td>\n",
       "      <td>3.0</td>\n",
       "      <td>1.4</td>\n",
       "      <td>0.2</td>\n",
       "      <td>setosa</td>\n",
       "      <td>red</td>\n",
       "    </tr>\n",
       "    <tr>\n",
       "      <th>2</th>\n",
       "      <td>4.7</td>\n",
       "      <td>3.2</td>\n",
       "      <td>1.3</td>\n",
       "      <td>0.2</td>\n",
       "      <td>setosa</td>\n",
       "      <td>red</td>\n",
       "    </tr>\n",
       "    <tr>\n",
       "      <th>3</th>\n",
       "      <td>4.6</td>\n",
       "      <td>3.1</td>\n",
       "      <td>1.5</td>\n",
       "      <td>0.2</td>\n",
       "      <td>setosa</td>\n",
       "      <td>red</td>\n",
       "    </tr>\n",
       "    <tr>\n",
       "      <th>4</th>\n",
       "      <td>5.0</td>\n",
       "      <td>3.6</td>\n",
       "      <td>1.4</td>\n",
       "      <td>0.2</td>\n",
       "      <td>setosa</td>\n",
       "      <td>red</td>\n",
       "    </tr>\n",
       "  </tbody>\n",
       "</table>\n",
       "</div>"
      ],
      "text/plain": [
       "   sepal_length  sepal_width  petal_length  petal_width species color\n",
       "0           5.1          3.5           1.4          0.2  setosa   red\n",
       "1           4.9          3.0           1.4          0.2  setosa   red\n",
       "2           4.7          3.2           1.3          0.2  setosa   red\n",
       "3           4.6          3.1           1.5          0.2  setosa   red\n",
       "4           5.0          3.6           1.4          0.2  setosa   red"
      ]
     },
     "execution_count": 28,
     "metadata": {},
     "output_type": "execute_result"
    }
   ],
   "source": [
    "flowers.head()"
   ]
  },
  {
   "cell_type": "code",
   "execution_count": 105,
   "metadata": {},
   "outputs": [],
   "source": [
    "x=flowers[\"petal_length\"]\n",
    "y=flowers[\"petal_width\"]"
   ]
  },
  {
   "cell_type": "code",
   "execution_count": 32,
   "metadata": {},
   "outputs": [],
   "source": [
    "#Define the output file path\n",
    "output_file(\"iris.html\")\n",
    "\n",
    "#Create the figure object\n",
    "f = figure()\n",
    "\n",
    "\n",
    "#Style the plot area\n",
    "f.plot_width=1100\n",
    "f.plot_height=650\n",
    "f.background_fill_color=\"olive\"\n",
    "f.background_fill_alpha=0.3\n",
    "\n",
    "#Style the title\n",
    "f.title.text=\"Iris Morphology\"\n",
    "f.title.align=\"center\"\n",
    "f.title.text_color=\"olive\"\n",
    "f.title.text_font=\"times\"\n",
    "f.title.text_font_size=\"25px\"\n",
    "\n",
    "#Style the axes\n",
    "f.xaxis.minor_tick_line_color=\"blue\"\n",
    "# f.xaxis.minor_tick_line_color=\"blue\"\n",
    "f.yaxis.major_label_orientation=\"vertical\"\n",
    "f.xaxis.visible=True\n",
    "f.xaxis.minor_tick_in=-6\n",
    "# f.xaxis.minor_tick_out= 10\n",
    "f.xaxis.axis_label=\"Petal Length\"\n",
    "f.yaxis.axis_label=\"Petal Width\"\n",
    "f.axis.axis_label_text_color=\"blue\"\n",
    "f.axis.major_label_text_color=\"orange\"\n",
    "\n",
    "#Axes geometry\n",
    "f.x_range = Range1d(start=0, end=10)\n",
    "# f.x_range = Range1d(start=0, end=10, bounds = (2, 6))\n",
    "f.y_range = Range1d(start=0, end=5)\n",
    "f.xaxis.bounds = (2, 5)\n",
    "f.xaxis[0].ticker.desired_num_ticks = 2\n",
    "f.yaxis[0].ticker.desired_num_ticks = 4\n",
    "f.yaxis[0].ticker.num_minor_ticks = 10\n",
    "\n",
    "\n",
    "#Style the grid\n",
    "f.xgrid.grid_line_color = None\n",
    "f.ygrid.grid_line_alpha = 0.6\n",
    "f.grid.grid_line_dash = [5,3]\n",
    "\n",
    "#adding glyphs\n",
    "#f.circle(x=flowers[\"petal_length\"], y=flowers[\"petal_width\"])\n",
    "\n",
    "# #adding glyphs\n",
    "colormap={'setosa':'red', 'versicolor':'green', 'virginica':'blue'}\n",
    "flowers['color']=[colormap[x] for x in flowers['species']]\n",
    "\n",
    "# f.circle(x=flowers[\"petal_length\"], y=flowers[\"petal_width\"],\n",
    "#           size=flowers['sepal_width']*4, fill_alpha=0.2, color=flowers['color'], line_dash=[5,3], legend='flowers')\n",
    "\n",
    "# #adding glyphs\n",
    "f.circle(x=flowers[\"petal_length\"][flowers[\"species\"]==\"setosa\"], \n",
    "y=flowers[\"petal_width\"][flowers[\"species\"]==\"setosa\"], \n",
    "size=flowers['sepal_width'][flowers[\"species\"]==\"setosa\"]*4,\n",
    "fill_alpha=0.2,color=flowers['color'][flowers[\"species\"]==\"setosa\"],line_dash=[5,3],legend='Setosa')\n",
    "\n",
    "f.circle(x=flowers[\"petal_length\"][flowers[\"species\"]==\"versicolor\"], \n",
    "y=flowers[\"petal_width\"][flowers[\"species\"]==\"versicolor\"],\n",
    "size=flowers['sepal_width'][flowers[\"species\"]==\"versicolor\"]*4,\n",
    "fill_alpha=0.2,color=flowers['color'][flowers[\"species\"]==\"versicolor\"],line_dash=[5,3],legend='Versicolor')\n",
    "\n",
    "f.circle(x=flowers[\"petal_length\"][flowers[\"species\"]==\"virginica\"], \n",
    "y=flowers[\"petal_width\"][flowers[\"species\"]==\"virginica\"],\n",
    "size=flowers['sepal_width'][flowers[\"species\"]==\"virginica\"]*4,\n",
    "fill_alpha=0.2,color=flowers['color'][flowers[\"species\"]==\"virginica\"],line_dash=[5,3],legend='Virginica')\n",
    "\n",
    "# #Style the legend\n",
    "f.legend.location = (75,550)\n",
    "f.legend.location = 'top_left'\n",
    "f.legend.background_fill_alpha = 0\n",
    "f.legend.border_line_color = None\n",
    "f.legend.margin = 10\n",
    "f.legend.padding = 18\n",
    "f.legend.label_text_color = 'olive'\n",
    "f.legend.label_text_font = 'times'\n",
    "\n",
    "\n",
    "#Save and show the figure\n",
    "show(f)"
   ]
  },
  {
   "cell_type": "code",
   "execution_count": 34,
   "metadata": {
    "collapsed": true
   },
   "outputs": [
    {
     "name": "stdout",
     "output_type": "stream",
     "text": [
      "Help on package bokeh.models in bokeh:\n",
      "\n",
      "NAME\n",
      "    bokeh.models - Provide Bokeh model \"building block\" classes.\n",
      "\n",
      "DESCRIPTION\n",
      "    One of the central design principals of Bokeh is that, regardless of\n",
      "    how the plot creation code is spelled in Python (or other languages),\n",
      "    the result is an object graph that encompasses all the visual and\n",
      "    data aspects of the scene. Furthermore, this *scene graph* is to be\n",
      "    serialized, and it is this serialized graph that the client library\n",
      "    BokehJS uses to render the plot. The low-level objects that comprise\n",
      "    a Bokeh scene graph are called :ref:`Models <bokeh.model>`.\n",
      "\n",
      "PACKAGE CONTENTS\n",
      "    annotations\n",
      "    arrow_heads\n",
      "    axes\n",
      "    callbacks\n",
      "    expressions\n",
      "    filters\n",
      "    formatters\n",
      "    glyphs\n",
      "    graphs\n",
      "    grids\n",
      "    layouts\n",
      "    map_plots\n",
      "    mappers\n",
      "    markers\n",
      "    plots\n",
      "    ranges\n",
      "    renderers\n",
      "    scales\n",
      "    selections\n",
      "    sources\n",
      "    tests (package)\n",
      "    tickers\n",
      "    tiles\n",
      "    tools\n",
      "    transforms\n",
      "    widgets (package)\n",
      "\n",
      "SUBMODULES\n",
      "    buttons\n",
      "    groups\n",
      "    icons\n",
      "    inputs\n",
      "    markups\n",
      "    panels\n",
      "    sliders\n",
      "    tables\n",
      "    widget\n",
      "\n",
      "DATA\n",
      "    absolute_import = _Feature((2, 5, 0, 'alpha', 1), (3, 0, 0, 'alpha', 0...\n",
      "    division = _Feature((2, 2, 0, 'alpha', 2), (3, 0, 0, 'alpha', 0), 8192...\n",
      "    log = <Logger bokeh.models.widgets (WARNING)>\n",
      "    print_function = _Feature((2, 6, 0, 'alpha', 2), (3, 0, 0, 'alpha', 0)...\n",
      "    unicode_literals = _Feature((2, 6, 0, 'alpha', 2), (3, 0, 0, 'alpha', ...\n",
      "\n",
      "FILE\n",
      "    c:\\users\\anaconda3\\lib\\site-packages\\bokeh\\models\\__init__.py\n",
      "\n",
      "\n"
     ]
    }
   ],
   "source": [
    "import bokeh.models\n",
    "dir(bokeh.models)\n",
    "help(bokeh.models)"
   ]
  },
  {
   "cell_type": "markdown",
   "metadata": {},
   "source": [
    "# Categorical axes"
   ]
  },
  {
   "cell_type": "code",
   "execution_count": 33,
   "metadata": {},
   "outputs": [],
   "source": [
    "output_file(\"students.html\")\n",
    "\n",
    "# #create the figure\n",
    "f = figure(x_range=[\"F\", \"D-\", \"D\", \"D+\", \"C-\", \"C\", \"C+\", \"B-\", \"B\", \"B+\", \"A-\", \"A\", \"A+\"],\n",
    "           y_range=[\"F\", \"D-\", \"D\", \"D+\", \"C-\", \"C\", \"C+\", \"B-\", \"B\", \"B+\", \"A-\", \"A\", \"A+\"])\n",
    "\n",
    "# #create glyphs\n",
    "f.circle(x=[\"A\", \"B\"], y=[\"C\", \"D\"], size=8)\n",
    "show(f)"
   ]
  },
  {
   "cell_type": "markdown",
   "metadata": {},
   "source": [
    "#    \n",
    "\n",
    "# CLASS WORK"
   ]
  },
  {
   "cell_type": "code",
   "execution_count": 37,
   "metadata": {},
   "outputs": [],
   "source": [
    "from bokeh.models import WheelZoomTool\n",
    "from screeninfo import get_monitors"
   ]
  },
  {
   "cell_type": "code",
   "execution_count": 44,
   "metadata": {},
   "outputs": [
    {
     "data": {
      "text/plain": [
       "1366"
      ]
     },
     "execution_count": 44,
     "metadata": {},
     "output_type": "execute_result"
    }
   ],
   "source": [
    "get_monitors()[0].width"
   ]
  },
  {
   "cell_type": "code",
   "execution_count": 38,
   "metadata": {},
   "outputs": [],
   "source": [
    "#Define the output file path\n",
    "output_file(\"assessment.html\")"
   ]
  },
  {
   "cell_type": "code",
   "execution_count": 39,
   "metadata": {},
   "outputs": [],
   "source": [
    "#Create the figure object\n",
    "f = figure(tools=[PanTool(), ResetTool(), WheelZoomTool()])\n",
    "\n",
    "#Style the tools\n",
    "hover = HoverTool(tooltips=[(\"Species\",\"@species\"), (\"Sepal Width\", \"@sepal_width\")])\n",
    "f.add_tools(hover)\n",
    "f.toolbar_location = 'above'\n",
    "f.toolbar.logo = None\n",
    "\n",
    "#Style the plot area\n",
    "f.plot_width=get_monitors()[0].width #get_monitors is part of the screeninfo module imported above\n",
    "f.plot_height=get_monitors()[0].height-50 #get_monitors is part of the screeninfo module imported above\n",
    "f.background_fill_color = \"grey\"\n",
    "f.background_fill_alpha = 0.1\n",
    "f.sizing_mode = \"stretch_both\" #graph will resize itself when user resizes the browser\n",
    "\n",
    "#Style the title\n",
    "f.title.text = \"Iris Morphology\"\n",
    "f.title.text_color = \"olive\"\n",
    "f.title.text_alpha = 0.6\n",
    "f.title.text_font = \"antiqua\"\n",
    "f.title.text_font_size = \"18px\"\n",
    "f.title.align = \"center\"\n",
    "\n",
    "#Style the axes\n",
    "f.yaxis.major_label_orientation = \"vertical\"\n",
    "f.xaxis.minor_tick_in = -6\n",
    "f.yaxis.minor_tick_in = -6\n",
    "f.axis.minor_tick_line_color = \"grey\"\n",
    "f.axis.axis_line_color = \"olive\"\n",
    "f.xaxis.axis_label = \"Petal Length\"\n",
    "f.yaxis.axis_label = \"Petal Width\"\n",
    "f.axis.axis_label_text_color = \"olive\"\n",
    "f.axis.axis_label_text_font = \"antiqua\"\n",
    "f.axis.axis_label_text_font_style = \"bold\"\n",
    "f.axis.major_label_text_color = \"olive\"\n",
    "\n",
    "#Axes geometry\n",
    "f.x_range = Range1d(start=flowers[\"petal_length\"][flowers[\"species\"]=='versicolor'].min(),\n",
    "end=flowers[\"petal_length\"][flowers[\"species\"]=='versicolor'].max())\n",
    "f.y_range = Range1d(start=flowers[\"petal_width\"][flowers[\"species\"]=='versicolor'].min(),\n",
    "end=flowers[\"petal_width\"][flowers[\"species\"]=='versicolor'].max())\n",
    "f.xaxis[0].ticker.desired_num_ticks = 6\n",
    "f.yaxis[0].ticker.desired_num_ticks = 6\n",
    "f.yaxis[0].ticker.num_minor_ticks = 5\n",
    "f.xaxis[0].ticker.num_minor_ticks = 5\n",
    "\n",
    "#Style the grid\n",
    "f.grid.grid_line_color = (128,128,0,0.5) #equivalent to olive color with a 0.5 alpha value\n",
    "f.grid.grid_line_dash = [5,3] #5 pixels of line and 3 pixels of space\n",
    "f.grid.minor_grid_line_color = (128,128,0,0.1) #equivalent to olive color with a 0.1 alpha value\n",
    "f.grid.minor_grid_line_dash = [3,3]\n",
    "\n",
    "colormap = {'setosa':'red','versicolor':'green','virginica':'blue'}\n",
    "flowers['color'] = [colormap[x] for x in flowers['species']]\n",
    "\n",
    "#adding glyphs\n",
    "f.circle(x=flowers[\"petal_length\"][flowers[\"species\"]==\"setosa\"],\n",
    "y=flowers[\"petal_width\"][flowers[\"species\"]==\"setosa\"],\n",
    "size=flowers['sepal_width'][flowers[\"species\"]==\"setosa\"]*4,\n",
    "fill_alpha=0.2, color=flowers['color'][flowers[\"species\"]==\"setosa\"],\n",
    "line_dash=[5,3], legend='Setosa')\n",
    "\n",
    "f.circle(x=flowers[\"petal_length\"][flowers[\"species\"]==\"versicolor\"],\n",
    "y=flowers[\"petal_width\"][flowers[\"species\"]==\"versicolor\"],\n",
    "size=flowers['sepal_width'][flowers[\"species\"]==\"versicolor\"]*4,\n",
    "fill_alpha=0.2, color=flowers['color'][flowers[\"species\"]==\"versicolor\"],\n",
    "line_dash=[5,3], legend='Versicolor')\n",
    "\n",
    "f.circle(x=flowers[\"petal_length\"][flowers[\"species\"]==\"virginica\"],\n",
    "y=flowers[\"petal_width\"][flowers[\"species\"]==\"virginica\"],\n",
    "size=flowers['sepal_width'][flowers[\"species\"]==\"virginica\"]*4,\n",
    "fill_alpha=0.2, color=flowers['color'][flowers[\"species\"]==\"virginica\"],\n",
    "line_dash=[5,3], legend='Virginica')\n",
    "\n",
    "#Style the legend\n",
    "f.legend.location = \"top_left\"\n",
    "f.legend.background_fill_alpha = 0\n",
    "f.legend.border_line_color = None\n",
    "f.legend.margin = 10\n",
    "f.legend.padding = 18\n",
    "f.legend.spacing = 1\n",
    "f.legend.label_text_color = 'olive'\n",
    "f.legend.label_text_font = 'antiqua'"
   ]
  },
  {
   "cell_type": "code",
   "execution_count": 40,
   "metadata": {},
   "outputs": [],
   "source": [
    "#Save and show the figure\n",
    "show(f)"
   ]
  },
  {
   "cell_type": "code",
   "execution_count": null,
   "metadata": {},
   "outputs": [],
   "source": []
  }
 ],
 "metadata": {
  "kernelspec": {
   "display_name": "Python 3",
   "language": "python",
   "name": "python3"
  },
  "language_info": {
   "codemirror_mode": {
    "name": "ipython",
    "version": 3
   },
   "file_extension": ".py",
   "mimetype": "text/x-python",
   "name": "python",
   "nbconvert_exporter": "python",
   "pygments_lexer": "ipython3",
   "version": "3.7.3"
  }
 },
 "nbformat": 4,
 "nbformat_minor": 2
}
