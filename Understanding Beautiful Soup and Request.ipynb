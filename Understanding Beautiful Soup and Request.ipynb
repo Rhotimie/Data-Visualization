{
 "cells": [
  {
   "cell_type": "code",
   "execution_count": 1,
   "metadata": {},
   "outputs": [],
   "source": [
    "import requests\n",
    "from bs4 import BeautifulSoup"
   ]
  },
  {
   "cell_type": "code",
   "execution_count": 18,
   "metadata": {},
   "outputs": [],
   "source": [
    "r = requests.get(\"https://bitcoincharts.com/markets/okcoinUSD.html\", headers={'User-Agent': 'Google Chrome/75.0.3770.142'})"
   ]
  },
  {
   "cell_type": "code",
   "execution_count": 19,
   "metadata": {},
   "outputs": [],
   "source": [
    "c = r.content"
   ]
  },
  {
   "cell_type": "code",
   "execution_count": 20,
   "metadata": {
    "collapsed": true
   },
   "outputs": [
    {
     "data": {
      "text/plain": [
       "b'<!DOCTYPE html PUBLIC \"-//W3C//DTD XHTML 1.0 Transitional//EN\" \"http://www.w3.org/TR/xhtml1/DTD/xhtml1-transitional.dtd\">\\n\\n\\n\\n<html>\\n\\t<head>\\n\\t\\t<title>Bitcoincharts | OKCoin - USD Summary</title>\\n\\t\\t<meta name=\"keywords\" content=\"bitcoincharts, bitcoin, btc, chart, value, price, market, graph, rate, trend, live, course, exchange, currency\" />\\n\\t\\t<meta name=\"google-site-verification\" content=\"fFq6TRpyqzjemTQBJ2dkMi00mJPMeHbLbGvp195gHuE\" />\\n\\t\\t<meta http-equiv=\"Content-Type\" content=\"text/html; charset=utf-8\" />\\n\\t\\t<meta name=\"advertising\" content=\"ask\" />\\n\\t\\t<meta name=\"description\" content=\"Bitcoincharts provides real-time USD price data of the OKCoin exchange including charts, orderbook and more.\" />\\n\\t\\t<link rel=\"apple-touch-icon\" sizes=\"57x57\" href=\"/static/favicon/apple-icon-57x57.png\">\\n\\t\\t<link rel=\"apple-touch-icon\" sizes=\"60x60\" href=\"/static/favicon/apple-icon-60x60.png\">\\n\\t\\t<link rel=\"apple-touch-icon\" sizes=\"72x72\" href=\"/static/favicon/apple-icon-72x72.png\">\\n\\t\\t<link rel=\"apple-touch-icon\" sizes=\"76x76\" href=\"/static/favicon/apple-icon-76x76.png\">\\n\\t\\t<link rel=\"apple-touch-icon\" sizes=\"114x114\" href=\"/static/favicon/apple-icon-114x114.png\">\\n\\t\\t<link rel=\"apple-touch-icon\" sizes=\"120x120\" href=\"/static/favicon/apple-icon-120x120.png\">\\n\\t\\t<link rel=\"apple-touch-icon\" sizes=\"144x144\" href=\"/static/favicon/apple-icon-144x144.png\">\\n\\t\\t<link rel=\"apple-touch-icon\" sizes=\"152x152\" href=\"/static/favicon/apple-icon-152x152.png\">\\n\\t\\t<link rel=\"apple-touch-icon\" sizes=\"180x180\" href=\"/static/favicon/apple-icon-180x180.png\">\\n\\t\\t<link rel=\"icon\" type=\"image/png\" sizes=\"192x192\"  href=\"/static/favicon/android-icon-192x192.png\">\\n\\t\\t<link rel=\"icon\" type=\"image/png\" sizes=\"32x32\" href=\"/static/favicon/favicon-32x32.png\">\\n\\t\\t<link rel=\"icon\" type=\"image/png\" sizes=\"96x96\" href=\"/static/favicon/favicon-96x96.png\">\\n\\t\\t<link rel=\"icon\" type=\"image/png\" sizes=\"16x16\" href=\"/static/favicon/favicon-16x16.png\">\\n\\t\\t<link rel=\"manifest\" href=\"/static/favicon/manifest.json\">\\n\\t\\t<meta name=\"msapplication-TileColor\" content=\"#ffffff\">\\n\\t\\t<meta name=\"msapplication-TileImage\" content=\"/static/favicon/ms-icon-144x144.png\">\\n\\t\\t<meta name=\"theme-color\" content=\"#ffffff\">\\n\\t\\t<link rel=\"shortcut icon\" type=\"image/x-icon\" href=\"/static/favicon.ico\" />\\n\\t\\t<link rel=\"stylesheet\" href=\"https://netdna.bootstrapcdn.com/font-awesome/4.0.3/css/font-awesome.css\" />\\n\\t\\t<link rel=\"stylesheet\" href=\"/static/CACHE/css/aeb7ba5f76f7.css\" type=\"text/css\" />\\n    <!--[if lte IE 8]><script language=\"javascript\" type=\"text/javascript\" src=\"/static/excanvas.min.js\"></script><![endif]-->\\n\\n\\t\\t<script type=\"text/javascript\" src=\"/static/CACHE/js/064763791d59.js\"></script>\\n\\n\\t\\t<!-- Begin Cookie Consent plugin by Silktide - http://silktide.com/cookieconsent -->\\n\\t\\t<script type=\"text/javascript\">\\n\\t\\t\\twindow.cookieconsent_options = {\"message\":\"We use cookies to personalise content and ads, to provide social media features and to analyse our traffic. We also share information about your use of our site with our social media, advertising and analytics partners.\",\"dismiss\":\"Got it!\",\"learnMore\":\"More info\",\"link\":\"https://www.google.com/intl/us/policies/privacy/partners/\",\"theme\":\"dark-bottom\"};\\n\\t\\t</script>\\n\\n\\t\\t<script src=\"//cdnjs.cloudflare.com/ajax/libs/cookieconsent2/1.0.9/cookieconsent.min.js\"></script>\\n\\t\\t<!-- End Cookie Consent plugin -->\\n\\n\\t\\t<!-- BuySellAds Ad Code -->\\n\\t\\t<script async src=\"//cdn-s2s.buysellads.net/pub/bitcoincharts.js\" data-cfasync=\"false\"></script>\\n\\t\\t<!-- End BuySellAds Ad Code -->\\n\\n\\t\\t<script type=\"text/javascript\">\\n\\t\\t\\tvar cs = new ChartSocket(\"api.bitcoincharts.com\");\\n\\t\\t\\tjQuery(document).ready( cs.connect );\\n                      \\xc2\\xa0\\xc2\\xa0if(parent != null && parent != self) {if(parent.location.hostname != self.location.hostname) {top.location.href=self.location.href;\\xc2\\xa0}}\\n\\t\\t</script>\\n\\t</head>\\n\\n\\t<body class=\"\">\\n    <div id=\"header\">\\n      <div class=\"container_12\">\\n        <div class=\"grid_4\" id=\"logobox\">\\n          <a href=\"/\"><img width=244 height=36 src=\"/static/chartslogo.png\" /><h1>Bitcoin Charts</h1></a>\\n        </div>\\n\\n        <div class=\"networkinfo grid_8 right\" id=\"blob1821195858\">\\n\\n\\n\\t<div class=\"column\">\\n\\t\\t\\t<table>\\n\\t\\t\\t\\t<tr><td class=\"label\">Blocks</td><td>481823</td></tr>\\n\\t\\t\\t\\t<tr><td class=\"label\">Total BTC</td><td>16.523M</td></tr>\\n\\t\\t\\t</table>\\n\\t</div>\\n\\t<div class=\"column\">\\n\\t\\t\\t<table>\\n\\t\\t\\t\\t<tr><td class=\"label\">Difficulty</td><td>923233068449</td></tr>\\n\\t\\t\\t\\t<tr><td class=\"label\">Estimated</td><td>887736944047 in 1 blks</td></tr>\\n\\t\\t\\t</table>\\n\\t</div>\\n\\t<div class=\"column\">\\n\\t\\t\\t<table>\\n\\t\\t\\t\\t<tr><td class=\"label\">Network total</td><td>7983858.406 Thash/s</td></tr>\\n\\t\\t\\t\\t<tr><td class=\"label\">Blocks/hour</td><td>7.25 / 497 s</td></tr>\\n\\t\\t\\t</table>\\n\\t</div>\\n\\n</div><script type=\"text/javascript\">cs.addBlob(\"blob1821195858\", \"blob.networkinfo\");</script>\\n\\n        <div id=\"menu\" class=\"grid_12\">\\n          <div class=\"grid_6\">\\n            <ul>\\n              \\n\\n\\n\\n\\n              <li><a href=\"/\">Home</a>\\n              <li><a href=\"/bitcoin/\">Bitcoin</a>\\n              <li><a class=\"active\" href=\"/markets/\">Markets</a>\\n              <li><a href=\"/charts/\">Charts</a>\\n              <li><a href=\"/about/\">About</a>\\n              \\n\\n\\n            </ul>\\n          </div>\\n          <div class=\"grid_6 right misc\">\\n            <span class=\"timestamp\">Jul 28, 2019 17:22:13 (UTC)</span>\\n          </div>\\n        </div>\\n\\t\\t  </div>\\n\\t\\t</div>\\n\\n\\t\\t\\n\\n<div class=\"container adblock\">\\n  <div id=\"bsa-zone_1528837909793-0_123456\"></div>\\r\\n<div style=\"text-align:center;font-size: .9em;\"><a href=\"https://orders.bitcoincharts.com/\">Advertise on Bitcoincharts</a></div>\\n</div>\\n\\n\\n\\n<div class=\"container submenu\">\\n  <ul>\\n    <li><a href=\"/markets/\">Overview</a></li>\\n    <li><a href=\"/markets/currencies/\">Currencies</a></li>\\n    <li><a href=\"/markets/list/\">All Markets</a></li>\\n  </ul>\\n</div>\\n\\n\\n\\n\\n<div class=\"container_16 padding content\">\\n  <div class=\"grid_16\">\\n    <h1>OKCoin (USD)</h1>\\n    \\n\\n\\n\\n    <ul class=\"market_nav\">\\n      <li class=\"selected\"><a href=\"/markets/okcoinUSD.html\">Summary</a></li>\\n      <li><a href=\"/markets/okcoinUSD_trades.html\">Trade History</a></li>\\n      <li><a href=\"/markets/okcoinUSD_depth.html\">Market Depth</a></li>\\n      \\n    </ul>\\n    \\n\\n    <div class=\"marketbox_content\">\\n      \\n\\t<h3>Summary</h3>\\n\\t<div id=\"market_summary\" class=\"rt-blob\" symbol=\"okcoinUSD\">\\n\\t\\t\\n\\t\\t<div class=\"column\">\\n\\t\\t\\t<p><label>Last Trade</label><span>9517.85</span></p>\\n\\t\\t\\t\\n\\t\\t\\t<p><label>Best Bid</label><span>9516.06</span></p>\\n\\t\\t\\t<p><label>Best Ask</label><span>9519.86</span></p>\\n\\t\\t</div>\\n\\t\\t<div class=\"column\">\\n\\t\\t\\t<p><label>Trade Time</label><span>3 min ago</span></p>\\n\\t\\t\\t<p><label>30-day Range</label><span>9075.74 \\xe2\\x80\\x94 13194.95</span></p>\\n\\t\\t\\t\\n\\t\\t\\t<p><label>30-day Volume</label><span>18,342.8581 BTC</span></p>\\n\\t\\t\\t<p><label>30-day Volume (Currency)</label><span>199,235,464.34 USD</span></p>\\n\\t\\t</div>\\n\\t\\t<div class=\"column\">\\n\\t\\t\\t<p><label>Symbol</label><span>okcoinUSD</span></p>\\n\\t\\t\\t<p><label>Currency</label><span>USD</span></p>\\n\\t\\t\\t\\n\\t\\t\\t<p><label>Website</label><span><a target=\"_blank\" href=\"https://www.okcoin.com/\">https://www.okcoin.com/</a></span></p>\\n\\t\\t\\t\\n\\t\\t</div>\\n\\n\\t</div>\\n\\n\\t<h3>Trade History\\n<ul id=\"chart_timerange\">\\n\\t<li range=\"60\" class=\"active\">60d</li>\\n\\t<li range=\"30\">30d</li>\\n\\t<li range=\"10\">10d</li>\\n\\t<li range=\"5\">5d</li>\\n\\t<li range=\"2\">2d</li>\\n</ul>\\n</h3>\\n\\n<p>\\n  <a href=\"/charts/okcoinUSD\">\\n    view larger chart\\n  </a>\\n</p>\\n\\n<a href=\"/charts/okcoinUSD\">\\n\\t<img id=\"pricechart\" class=\"rt-chart\" symbol=\"okcoinUSD\" width=\"750\" height=\"112\" />\\n</a>\\n\\n<script type=\"text/javascript\">\\n\\tjQuery(\\'#chart_timerange li\\').click( function(e) {\\n\\t\\t\\t\\tvar o = jQuery(this);\\n\\t\\t\\t\\tvar r = o.attr(\\'range\\');\\n\\t\\t\\t\\tsetChartRange(r);\\n\\t\\t\\t});\\n\\n\\tvar ChartBaseURL = \"/charts/chart.png?m=okcoinUSD&v=1&t=S&noheader=1&height=80&width=750\";\\n\\n\\tfunction setChartRange(r) {\\n\\t\\tvar chart = document.getElementById(\\'pricechart\\');\\n\\t\\tchart.src = ChartBaseURL + \"&r=\" + r;\\n\\n\\t\\tvar e = jQuery(\\'#chart_timerange\\').children(\\'li[range=\"\\' + r + \\'\"]\\').addClass(\\'active\\').siblings().removeClass(\\'active\\');\\n\\t\\tjQuery.cookie(\\'chart_timerange\\', r);\\n\\t}\\n\\n\\tvar r = jQuery.cookie(\\'chart_timerange\\');\\n\\tif (!r) r = 60;\\n\\tsetChartRange(r);\\n\\n</script>\\n\\n\\t<h3>Market Depth</h3>\\n\\t<img class=\"rt-chart\" symbol=\"okcoinUSD\" width=\"750\" height=\"150\" src=\"/charts/okcoinUSD/orderbook.png\" />\\n\\t<img class=\"rt-chart\" symbol=\"okcoinUSD\" width=\"750\" height=\"150\" src=\"/charts/okcoinUSD/accumulated_orderbook.png\" />\\n  <p><strong>y:</strong> Volume in BTC, <strong>x:</strong> price</p>\\n\\n    </div>\\n  </div>\\n</div>\\n\\n\\n\\n\\n\\n\\t\\t<div id=\"footer\">\\n      <div class=\"container_12\">\\n        <div class=\"grid_5\">\\n          <h1>About</h1>\\n            <p>We are interested in feedback! Email <a href=\"mailto:info@bitcoincharts.com\">info@bitcoincharts.com</a> any questions or comments you might have.</p>\\n        </div>\\n        <div class=\"grid_3\">\\n          <h1>Help</h1>\\n          \\n          <ul class=\"unstyled\">\\n            \\n            <li><a href=\"/about/\">About</a></li>\\n            \\n            <li><a href=\"/about/advertising/\">Advertise on Bitcoincharts</a></li>\\n            \\n            <li><a href=\"/about/exchanges/\">Information for exchanges</a></li>\\n            \\n            <li><a href=\"/about/exchanges/banners/\">Backlink Banners</a></li>\\n            \\n            <li><a href=\"/about/markets-api/\">Markets API</a></li>\\n            \\n          </ul>\\n        </div>\\n        <div class=\"grid_12 right\">\\n          &copy; bitcoincharts.com\\n        </div>\\n      </div>\\n\\t\\t</div>\\n  <script>\\n    (function(i,s,o,g,r,a,m){i[\\'GoogleAnalyticsObject\\']=r;i[r]=i[r]||function(){\\n      (i[r].q=i[r].q||[]).push(arguments)},i[r].l=1*new Date();a=s.createElement(o),\\n        m=s.getElementsByTagName(o)[0];a.async=1;a.src=g;m.parentNode.insertBefore(a,m)\\n    })(window,document,\\'script\\',\\'https://www.google-analytics.com/analytics.js\\',\\'ga\\');\\n\\n    ga(\\'set\\', \\'anonymizeIp\\', true);\\n    ga(\\'create\\', \\'UA-19696221-1\\', \\'auto\\');\\n    ga(\\'send\\', \\'pageview\\');\\n  </script>\\n  <script>\\n\\tvar trackOutboundLink = function(url, isExternal) {\\n\\t    var params = {};\\n\\n\\t    if (!isExternal) {\\n\\t\\tparams.hitCallback = function () {\\n\\t\\t    document.location = url;\\n\\t\\t}\\n\\t    }\\n\\t    ga(\\'send\\', \\'event\\', \\'outbound\\', \\'click\\', url, params);\\n\\n\\t    return isExternal;\\n\\t}\\n  </script>\\n\\t</body>\\n</html>\\n'"
      ]
     },
     "execution_count": 20,
     "metadata": {},
     "output_type": "execute_result"
    }
   ],
   "source": [
    "c"
   ]
  },
  {
   "cell_type": "code",
   "execution_count": 21,
   "metadata": {},
   "outputs": [],
   "source": [
    "soup = BeautifulSoup(c, \"html.parser\")"
   ]
  },
  {
   "cell_type": "code",
   "execution_count": 22,
   "metadata": {
    "collapsed": true
   },
   "outputs": [
    {
     "data": {
      "text/plain": [
       "<!DOCTYPE html PUBLIC \"-//W3C//DTD XHTML 1.0 Transitional//EN\" \"http://www.w3.org/TR/xhtml1/DTD/xhtml1-transitional.dtd\">\n",
       "\n",
       "<html>\n",
       "<head>\n",
       "<title>Bitcoincharts | OKCoin - USD Summary</title>\n",
       "<meta content=\"bitcoincharts, bitcoin, btc, chart, value, price, market, graph, rate, trend, live, course, exchange, currency\" name=\"keywords\"/>\n",
       "<meta content=\"fFq6TRpyqzjemTQBJ2dkMi00mJPMeHbLbGvp195gHuE\" name=\"google-site-verification\"/>\n",
       "<meta content=\"text/html; charset=utf-8\" http-equiv=\"Content-Type\"/>\n",
       "<meta content=\"ask\" name=\"advertising\"/>\n",
       "<meta content=\"Bitcoincharts provides real-time USD price data of the OKCoin exchange including charts, orderbook and more.\" name=\"description\"/>\n",
       "<link href=\"/static/favicon/apple-icon-57x57.png\" rel=\"apple-touch-icon\" sizes=\"57x57\"/>\n",
       "<link href=\"/static/favicon/apple-icon-60x60.png\" rel=\"apple-touch-icon\" sizes=\"60x60\"/>\n",
       "<link href=\"/static/favicon/apple-icon-72x72.png\" rel=\"apple-touch-icon\" sizes=\"72x72\"/>\n",
       "<link href=\"/static/favicon/apple-icon-76x76.png\" rel=\"apple-touch-icon\" sizes=\"76x76\"/>\n",
       "<link href=\"/static/favicon/apple-icon-114x114.png\" rel=\"apple-touch-icon\" sizes=\"114x114\"/>\n",
       "<link href=\"/static/favicon/apple-icon-120x120.png\" rel=\"apple-touch-icon\" sizes=\"120x120\"/>\n",
       "<link href=\"/static/favicon/apple-icon-144x144.png\" rel=\"apple-touch-icon\" sizes=\"144x144\"/>\n",
       "<link href=\"/static/favicon/apple-icon-152x152.png\" rel=\"apple-touch-icon\" sizes=\"152x152\"/>\n",
       "<link href=\"/static/favicon/apple-icon-180x180.png\" rel=\"apple-touch-icon\" sizes=\"180x180\"/>\n",
       "<link href=\"/static/favicon/android-icon-192x192.png\" rel=\"icon\" sizes=\"192x192\" type=\"image/png\"/>\n",
       "<link href=\"/static/favicon/favicon-32x32.png\" rel=\"icon\" sizes=\"32x32\" type=\"image/png\"/>\n",
       "<link href=\"/static/favicon/favicon-96x96.png\" rel=\"icon\" sizes=\"96x96\" type=\"image/png\"/>\n",
       "<link href=\"/static/favicon/favicon-16x16.png\" rel=\"icon\" sizes=\"16x16\" type=\"image/png\"/>\n",
       "<link href=\"/static/favicon/manifest.json\" rel=\"manifest\"/>\n",
       "<meta content=\"#ffffff\" name=\"msapplication-TileColor\"/>\n",
       "<meta content=\"/static/favicon/ms-icon-144x144.png\" name=\"msapplication-TileImage\"/>\n",
       "<meta content=\"#ffffff\" name=\"theme-color\"/>\n",
       "<link href=\"/static/favicon.ico\" rel=\"shortcut icon\" type=\"image/x-icon\">\n",
       "<link href=\"https://netdna.bootstrapcdn.com/font-awesome/4.0.3/css/font-awesome.css\" rel=\"stylesheet\">\n",
       "<link href=\"/static/CACHE/css/aeb7ba5f76f7.css\" rel=\"stylesheet\" type=\"text/css\">\n",
       "<!--[if lte IE 8]><script language=\"javascript\" type=\"text/javascript\" src=\"/static/excanvas.min.js\"></script><![endif]-->\n",
       "<script src=\"/static/CACHE/js/064763791d59.js\" type=\"text/javascript\"></script>\n",
       "<!-- Begin Cookie Consent plugin by Silktide - http://silktide.com/cookieconsent -->\n",
       "<script type=\"text/javascript\">\n",
       "\t\t\twindow.cookieconsent_options = {\"message\":\"We use cookies to personalise content and ads, to provide social media features and to analyse our traffic. We also share information about your use of our site with our social media, advertising and analytics partners.\",\"dismiss\":\"Got it!\",\"learnMore\":\"More info\",\"link\":\"https://www.google.com/intl/us/policies/privacy/partners/\",\"theme\":\"dark-bottom\"};\n",
       "\t\t</script>\n",
       "<script src=\"//cdnjs.cloudflare.com/ajax/libs/cookieconsent2/1.0.9/cookieconsent.min.js\"></script>\n",
       "<!-- End Cookie Consent plugin -->\n",
       "<!-- BuySellAds Ad Code -->\n",
       "<script async=\"\" data-cfasync=\"false\" src=\"//cdn-s2s.buysellads.net/pub/bitcoincharts.js\"></script>\n",
       "<!-- End BuySellAds Ad Code -->\n",
       "<script type=\"text/javascript\">\n",
       "\t\t\tvar cs = new ChartSocket(\"api.bitcoincharts.com\");\n",
       "\t\t\tjQuery(document).ready( cs.connect );\n",
       "                        if(parent != null && parent != self) {if(parent.location.hostname != self.location.hostname) {top.location.href=self.location.href; }}\n",
       "\t\t</script>\n",
       "</link></link></link></head>\n",
       "<body class=\"\">\n",
       "<div id=\"header\">\n",
       "<div class=\"container_12\">\n",
       "<div class=\"grid_4\" id=\"logobox\">\n",
       "<a href=\"/\"><img height=\"36\" src=\"/static/chartslogo.png\" width=\"244\"/><h1>Bitcoin Charts</h1></a>\n",
       "</div>\n",
       "<div class=\"networkinfo grid_8 right\" id=\"blob1821195858\">\n",
       "<div class=\"column\">\n",
       "<table>\n",
       "<tr><td class=\"label\">Blocks</td><td>481823</td></tr>\n",
       "<tr><td class=\"label\">Total BTC</td><td>16.523M</td></tr>\n",
       "</table>\n",
       "</div>\n",
       "<div class=\"column\">\n",
       "<table>\n",
       "<tr><td class=\"label\">Difficulty</td><td>923233068449</td></tr>\n",
       "<tr><td class=\"label\">Estimated</td><td>887736944047 in 1 blks</td></tr>\n",
       "</table>\n",
       "</div>\n",
       "<div class=\"column\">\n",
       "<table>\n",
       "<tr><td class=\"label\">Network total</td><td>7983858.406 Thash/s</td></tr>\n",
       "<tr><td class=\"label\">Blocks/hour</td><td>7.25 / 497 s</td></tr>\n",
       "</table>\n",
       "</div>\n",
       "</div><script type=\"text/javascript\">cs.addBlob(\"blob1821195858\", \"blob.networkinfo\");</script>\n",
       "<div class=\"grid_12\" id=\"menu\">\n",
       "<div class=\"grid_6\">\n",
       "<ul>\n",
       "<li><a href=\"/\">Home</a>\n",
       "<li><a href=\"/bitcoin/\">Bitcoin</a>\n",
       "<li><a class=\"active\" href=\"/markets/\">Markets</a>\n",
       "<li><a href=\"/charts/\">Charts</a>\n",
       "<li><a href=\"/about/\">About</a>\n",
       "</li></li></li></li></li></ul>\n",
       "</div>\n",
       "<div class=\"grid_6 right misc\">\n",
       "<span class=\"timestamp\">Jul 28, 2019 17:22:13 (UTC)</span>\n",
       "</div>\n",
       "</div>\n",
       "</div>\n",
       "</div>\n",
       "<div class=\"container adblock\">\n",
       "<div id=\"bsa-zone_1528837909793-0_123456\"></div>\n",
       "<div style=\"text-align:center;font-size: .9em;\"><a href=\"https://orders.bitcoincharts.com/\">Advertise on Bitcoincharts</a></div>\n",
       "</div>\n",
       "<div class=\"container submenu\">\n",
       "<ul>\n",
       "<li><a href=\"/markets/\">Overview</a></li>\n",
       "<li><a href=\"/markets/currencies/\">Currencies</a></li>\n",
       "<li><a href=\"/markets/list/\">All Markets</a></li>\n",
       "</ul>\n",
       "</div>\n",
       "<div class=\"container_16 padding content\">\n",
       "<div class=\"grid_16\">\n",
       "<h1>OKCoin (USD)</h1>\n",
       "<ul class=\"market_nav\">\n",
       "<li class=\"selected\"><a href=\"/markets/okcoinUSD.html\">Summary</a></li>\n",
       "<li><a href=\"/markets/okcoinUSD_trades.html\">Trade History</a></li>\n",
       "<li><a href=\"/markets/okcoinUSD_depth.html\">Market Depth</a></li>\n",
       "</ul>\n",
       "<div class=\"marketbox_content\">\n",
       "<h3>Summary</h3>\n",
       "<div class=\"rt-blob\" id=\"market_summary\" symbol=\"okcoinUSD\">\n",
       "<div class=\"column\">\n",
       "<p><label>Last Trade</label><span>9517.85</span></p>\n",
       "<p><label>Best Bid</label><span>9516.06</span></p>\n",
       "<p><label>Best Ask</label><span>9519.86</span></p>\n",
       "</div>\n",
       "<div class=\"column\">\n",
       "<p><label>Trade Time</label><span>3 min ago</span></p>\n",
       "<p><label>30-day Range</label><span>9075.74 — 13194.95</span></p>\n",
       "<p><label>30-day Volume</label><span>18,342.8581 BTC</span></p>\n",
       "<p><label>30-day Volume (Currency)</label><span>199,235,464.34 USD</span></p>\n",
       "</div>\n",
       "<div class=\"column\">\n",
       "<p><label>Symbol</label><span>okcoinUSD</span></p>\n",
       "<p><label>Currency</label><span>USD</span></p>\n",
       "<p><label>Website</label><span><a href=\"https://www.okcoin.com/\" target=\"_blank\">https://www.okcoin.com/</a></span></p>\n",
       "</div>\n",
       "</div>\n",
       "<h3>Trade History\n",
       "<ul id=\"chart_timerange\">\n",
       "<li class=\"active\" range=\"60\">60d</li>\n",
       "<li range=\"30\">30d</li>\n",
       "<li range=\"10\">10d</li>\n",
       "<li range=\"5\">5d</li>\n",
       "<li range=\"2\">2d</li>\n",
       "</ul>\n",
       "</h3>\n",
       "<p>\n",
       "<a href=\"/charts/okcoinUSD\">\n",
       "    view larger chart\n",
       "  </a>\n",
       "</p>\n",
       "<a href=\"/charts/okcoinUSD\">\n",
       "<img class=\"rt-chart\" height=\"112\" id=\"pricechart\" symbol=\"okcoinUSD\" width=\"750\"/>\n",
       "</a>\n",
       "<script type=\"text/javascript\">\n",
       "\tjQuery('#chart_timerange li').click( function(e) {\n",
       "\t\t\t\tvar o = jQuery(this);\n",
       "\t\t\t\tvar r = o.attr('range');\n",
       "\t\t\t\tsetChartRange(r);\n",
       "\t\t\t});\n",
       "\n",
       "\tvar ChartBaseURL = \"/charts/chart.png?m=okcoinUSD&v=1&t=S&noheader=1&height=80&width=750\";\n",
       "\n",
       "\tfunction setChartRange(r) {\n",
       "\t\tvar chart = document.getElementById('pricechart');\n",
       "\t\tchart.src = ChartBaseURL + \"&r=\" + r;\n",
       "\n",
       "\t\tvar e = jQuery('#chart_timerange').children('li[range=\"' + r + '\"]').addClass('active').siblings().removeClass('active');\n",
       "\t\tjQuery.cookie('chart_timerange', r);\n",
       "\t}\n",
       "\n",
       "\tvar r = jQuery.cookie('chart_timerange');\n",
       "\tif (!r) r = 60;\n",
       "\tsetChartRange(r);\n",
       "\n",
       "</script>\n",
       "<h3>Market Depth</h3>\n",
       "<img class=\"rt-chart\" height=\"150\" src=\"/charts/okcoinUSD/orderbook.png\" symbol=\"okcoinUSD\" width=\"750\"/>\n",
       "<img class=\"rt-chart\" height=\"150\" src=\"/charts/okcoinUSD/accumulated_orderbook.png\" symbol=\"okcoinUSD\" width=\"750\"/>\n",
       "<p><strong>y:</strong> Volume in BTC, <strong>x:</strong> price</p>\n",
       "</div>\n",
       "</div>\n",
       "</div>\n",
       "<div id=\"footer\">\n",
       "<div class=\"container_12\">\n",
       "<div class=\"grid_5\">\n",
       "<h1>About</h1>\n",
       "<p>We are interested in feedback! Email <a href=\"mailto:info@bitcoincharts.com\">info@bitcoincharts.com</a> any questions or comments you might have.</p>\n",
       "</div>\n",
       "<div class=\"grid_3\">\n",
       "<h1>Help</h1>\n",
       "<ul class=\"unstyled\">\n",
       "<li><a href=\"/about/\">About</a></li>\n",
       "<li><a href=\"/about/advertising/\">Advertise on Bitcoincharts</a></li>\n",
       "<li><a href=\"/about/exchanges/\">Information for exchanges</a></li>\n",
       "<li><a href=\"/about/exchanges/banners/\">Backlink Banners</a></li>\n",
       "<li><a href=\"/about/markets-api/\">Markets API</a></li>\n",
       "</ul>\n",
       "</div>\n",
       "<div class=\"grid_12 right\">\n",
       "          © bitcoincharts.com\n",
       "        </div>\n",
       "</div>\n",
       "</div>\n",
       "<script>\n",
       "    (function(i,s,o,g,r,a,m){i['GoogleAnalyticsObject']=r;i[r]=i[r]||function(){\n",
       "      (i[r].q=i[r].q||[]).push(arguments)},i[r].l=1*new Date();a=s.createElement(o),\n",
       "        m=s.getElementsByTagName(o)[0];a.async=1;a.src=g;m.parentNode.insertBefore(a,m)\n",
       "    })(window,document,'script','https://www.google-analytics.com/analytics.js','ga');\n",
       "\n",
       "    ga('set', 'anonymizeIp', true);\n",
       "    ga('create', 'UA-19696221-1', 'auto');\n",
       "    ga('send', 'pageview');\n",
       "  </script>\n",
       "<script>\n",
       "\tvar trackOutboundLink = function(url, isExternal) {\n",
       "\t    var params = {};\n",
       "\n",
       "\t    if (!isExternal) {\n",
       "\t\tparams.hitCallback = function () {\n",
       "\t\t    document.location = url;\n",
       "\t\t}\n",
       "\t    }\n",
       "\t    ga('send', 'event', 'outbound', 'click', url, params);\n",
       "\n",
       "\t    return isExternal;\n",
       "\t}\n",
       "  </script>\n",
       "</body>\n",
       "</html>"
      ]
     },
     "execution_count": 22,
     "metadata": {},
     "output_type": "execute_result"
    }
   ],
   "source": [
    "soup"
   ]
  },
  {
   "cell_type": "code",
   "execution_count": 23,
   "metadata": {},
   "outputs": [],
   "source": [
    "value_raw = soup.find_all(\"p\")"
   ]
  },
  {
   "cell_type": "code",
   "execution_count": 24,
   "metadata": {
    "scrolled": true
   },
   "outputs": [
    {
     "data": {
      "text/plain": [
       "[<p><label>Last Trade</label><span>9517.85</span></p>,\n",
       " <p><label>Best Bid</label><span>9516.06</span></p>,\n",
       " <p><label>Best Ask</label><span>9519.86</span></p>,\n",
       " <p><label>Trade Time</label><span>3 min ago</span></p>,\n",
       " <p><label>30-day Range</label><span>9075.74 — 13194.95</span></p>,\n",
       " <p><label>30-day Volume</label><span>18,342.8581 BTC</span></p>,\n",
       " <p><label>30-day Volume (Currency)</label><span>199,235,464.34 USD</span></p>,\n",
       " <p><label>Symbol</label><span>okcoinUSD</span></p>,\n",
       " <p><label>Currency</label><span>USD</span></p>,\n",
       " <p><label>Website</label><span><a href=\"https://www.okcoin.com/\" target=\"_blank\">https://www.okcoin.com/</a></span></p>,\n",
       " <p>\n",
       " <a href=\"/charts/okcoinUSD\">\n",
       "     view larger chart\n",
       "   </a>\n",
       " </p>,\n",
       " <p><strong>y:</strong> Volume in BTC, <strong>x:</strong> price</p>,\n",
       " <p>We are interested in feedback! Email <a href=\"mailto:info@bitcoincharts.com\">info@bitcoincharts.com</a> any questions or comments you might have.</p>]"
      ]
     },
     "execution_count": 24,
     "metadata": {},
     "output_type": "execute_result"
    }
   ],
   "source": [
    "value_raw"
   ]
  },
  {
   "cell_type": "code",
   "execution_count": 25,
   "metadata": {},
   "outputs": [],
   "source": [
    "value_net = value_raw[0]"
   ]
  },
  {
   "cell_type": "code",
   "execution_count": 26,
   "metadata": {
    "scrolled": true
   },
   "outputs": [
    {
     "data": {
      "text/plain": [
       "<p><label>Last Trade</label><span>9517.85</span></p>"
      ]
     },
     "execution_count": 26,
     "metadata": {},
     "output_type": "execute_result"
    }
   ],
   "source": [
    "value_net"
   ]
  },
  {
   "cell_type": "code",
   "execution_count": 27,
   "metadata": {},
   "outputs": [
    {
     "data": {
      "text/plain": [
       "<span>9517.85</span>"
      ]
     },
     "execution_count": 27,
     "metadata": {},
     "output_type": "execute_result"
    }
   ],
   "source": [
    "value_net.span"
   ]
  },
  {
   "cell_type": "code",
   "execution_count": 28,
   "metadata": {},
   "outputs": [
    {
     "data": {
      "text/plain": [
       "'9517.85'"
      ]
     },
     "execution_count": 28,
     "metadata": {},
     "output_type": "execute_result"
    }
   ],
   "source": [
    "value_net.span.text"
   ]
  },
  {
   "cell_type": "code",
   "execution_count": 29,
   "metadata": {},
   "outputs": [
    {
     "data": {
      "text/plain": [
       "9517.85"
      ]
     },
     "execution_count": 29,
     "metadata": {},
     "output_type": "execute_result"
    }
   ],
   "source": [
    "float(value_net.span.text)"
   ]
  }
 ],
 "metadata": {
  "kernelspec": {
   "display_name": "Python 3",
   "language": "python",
   "name": "python3"
  },
  "language_info": {
   "codemirror_mode": {
    "name": "ipython",
    "version": 3
   },
   "file_extension": ".py",
   "mimetype": "text/x-python",
   "name": "python",
   "nbconvert_exporter": "python",
   "pygments_lexer": "ipython3",
   "version": "3.7.3"
  }
 },
 "nbformat": 4,
 "nbformat_minor": 2
}
